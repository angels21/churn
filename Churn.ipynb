{
 "cells": [
  {
   "cell_type": "markdown",
   "metadata": {
    "id": "KoKR0_nIjBYh"
   },
   "source": [
    "Github link: https://github.com/angels21/churn"
   ]
  },
  {
   "cell_type": "markdown",
   "metadata": {
    "id": "NmB5rPLRDKbq"
   },
   "source": [
    "## Bank Churn Prediction\n",
    "Businesses like banks which provide service have to worry about problem of 'Churn' i.e. customers\n",
    "leaving and joining another service provider. It is important to understand which aspects of the service\n",
    "influence a customer's decision in this regard. Management can concentrate efforts on improvement of\n",
    "service, keeping in mind these priorities.\n",
    "\n",
    "**Objective:**Given a Bank customer, build a neural network based classifier that can determine whether they will leave or not in the next 6 months."
   ]
  },
  {
   "cell_type": "markdown",
   "metadata": {
    "id": "xMPjEOEAEJPV"
   },
   "source": [
    "###Data Description:\n",
    "The case study is from an open-source dataset from Kaggle.\n",
    "The dataset contains 10,000 sample points with 14 distinct features such as CustomerId, CreditScore,\n",
    "Geography, Gender, Age, Tenure, Balance etc.\n",
    "Link to the Kaggle project site:\n",
    "https://www.kaggle.com/barelydedicated/bank-customer-churn-modeling"
   ]
  },
  {
   "cell_type": "markdown",
   "metadata": {
    "id": "q9aGtnI9mQcl"
   },
   "source": [
    "Install tensorflow"
   ]
  },
  {
   "cell_type": "code",
   "execution_count": null,
   "metadata": {
    "colab": {
     "base_uri": "https://localhost:8080/",
     "height": 642
    },
    "executionInfo": {
     "elapsed": 3532,
     "status": "ok",
     "timestamp": 1602785958381,
     "user": {
      "displayName": "Solomon Nuhu",
      "photoUrl": "https://lh3.googleusercontent.com/a-/AOh14Ggv4HA3lMlO6cSybPvdyNLxvAUB7S8iulFIRWU-=s64",
      "userId": "02036511388837544815"
     },
     "user_tz": -60
    },
    "id": "Euuh2pOUEkxY",
    "outputId": "7defdf23-6c5b-4d88-bbd9-c682d5ef48cc"
   },
   "outputs": [
    {
     "name": "stdout",
     "output_type": "stream",
     "text": [
      "Requirement already satisfied: tensorflow==2.0 in /usr/local/lib/python3.6/dist-packages (2.0.0)\n",
      "Requirement already satisfied: google-pasta>=0.1.6 in /usr/local/lib/python3.6/dist-packages (from tensorflow==2.0) (0.2.0)\n",
      "Requirement already satisfied: opt-einsum>=2.3.2 in /usr/local/lib/python3.6/dist-packages (from tensorflow==2.0) (3.3.0)\n",
      "Requirement already satisfied: gast==0.2.2 in /usr/local/lib/python3.6/dist-packages (from tensorflow==2.0) (0.2.2)\n",
      "Requirement already satisfied: tensorflow-estimator<2.1.0,>=2.0.0 in /usr/local/lib/python3.6/dist-packages (from tensorflow==2.0) (2.0.1)\n",
      "Requirement already satisfied: six>=1.10.0 in /usr/local/lib/python3.6/dist-packages (from tensorflow==2.0) (1.15.0)\n",
      "Requirement already satisfied: numpy<2.0,>=1.16.0 in /usr/local/lib/python3.6/dist-packages (from tensorflow==2.0) (1.18.5)\n",
      "Requirement already satisfied: protobuf>=3.6.1 in /usr/local/lib/python3.6/dist-packages (from tensorflow==2.0) (3.12.4)\n",
      "Requirement already satisfied: keras-applications>=1.0.8 in /usr/local/lib/python3.6/dist-packages (from tensorflow==2.0) (1.0.8)\n",
      "Requirement already satisfied: grpcio>=1.8.6 in /usr/local/lib/python3.6/dist-packages (from tensorflow==2.0) (1.32.0)\n",
      "Requirement already satisfied: termcolor>=1.1.0 in /usr/local/lib/python3.6/dist-packages (from tensorflow==2.0) (1.1.0)\n",
      "Requirement already satisfied: astor>=0.6.0 in /usr/local/lib/python3.6/dist-packages (from tensorflow==2.0) (0.8.1)\n",
      "Requirement already satisfied: tensorboard<2.1.0,>=2.0.0 in /usr/local/lib/python3.6/dist-packages (from tensorflow==2.0) (2.0.2)\n",
      "Requirement already satisfied: wrapt>=1.11.1 in /usr/local/lib/python3.6/dist-packages (from tensorflow==2.0) (1.12.1)\n",
      "Requirement already satisfied: absl-py>=0.7.0 in /usr/local/lib/python3.6/dist-packages (from tensorflow==2.0) (0.10.0)\n",
      "Requirement already satisfied: keras-preprocessing>=1.0.5 in /usr/local/lib/python3.6/dist-packages (from tensorflow==2.0) (1.1.2)\n",
      "Requirement already satisfied: wheel>=0.26 in /usr/local/lib/python3.6/dist-packages (from tensorflow==2.0) (0.35.1)\n",
      "Requirement already satisfied: setuptools in /usr/local/lib/python3.6/dist-packages (from protobuf>=3.6.1->tensorflow==2.0) (50.3.0)\n",
      "Requirement already satisfied: h5py in /usr/local/lib/python3.6/dist-packages (from keras-applications>=1.0.8->tensorflow==2.0) (2.10.0)\n",
      "Requirement already satisfied: google-auth<2,>=1.6.3 in /usr/local/lib/python3.6/dist-packages (from tensorboard<2.1.0,>=2.0.0->tensorflow==2.0) (1.17.2)\n",
      "Requirement already satisfied: google-auth-oauthlib<0.5,>=0.4.1 in /usr/local/lib/python3.6/dist-packages (from tensorboard<2.1.0,>=2.0.0->tensorflow==2.0) (0.4.1)\n",
      "Requirement already satisfied: werkzeug>=0.11.15 in /usr/local/lib/python3.6/dist-packages (from tensorboard<2.1.0,>=2.0.0->tensorflow==2.0) (1.0.1)\n",
      "Requirement already satisfied: requests<3,>=2.21.0 in /usr/local/lib/python3.6/dist-packages (from tensorboard<2.1.0,>=2.0.0->tensorflow==2.0) (2.23.0)\n",
      "Requirement already satisfied: markdown>=2.6.8 in /usr/local/lib/python3.6/dist-packages (from tensorboard<2.1.0,>=2.0.0->tensorflow==2.0) (3.2.2)\n",
      "Requirement already satisfied: pyasn1-modules>=0.2.1 in /usr/local/lib/python3.6/dist-packages (from google-auth<2,>=1.6.3->tensorboard<2.1.0,>=2.0.0->tensorflow==2.0) (0.2.8)\n",
      "Requirement already satisfied: cachetools<5.0,>=2.0.0 in /usr/local/lib/python3.6/dist-packages (from google-auth<2,>=1.6.3->tensorboard<2.1.0,>=2.0.0->tensorflow==2.0) (4.1.1)\n",
      "Requirement already satisfied: rsa<5,>=3.1.4; python_version >= \"3\" in /usr/local/lib/python3.6/dist-packages (from google-auth<2,>=1.6.3->tensorboard<2.1.0,>=2.0.0->tensorflow==2.0) (4.6)\n",
      "Requirement already satisfied: requests-oauthlib>=0.7.0 in /usr/local/lib/python3.6/dist-packages (from google-auth-oauthlib<0.5,>=0.4.1->tensorboard<2.1.0,>=2.0.0->tensorflow==2.0) (1.3.0)\n",
      "Requirement already satisfied: urllib3!=1.25.0,!=1.25.1,<1.26,>=1.21.1 in /usr/local/lib/python3.6/dist-packages (from requests<3,>=2.21.0->tensorboard<2.1.0,>=2.0.0->tensorflow==2.0) (1.24.3)\n",
      "Requirement already satisfied: chardet<4,>=3.0.2 in /usr/local/lib/python3.6/dist-packages (from requests<3,>=2.21.0->tensorboard<2.1.0,>=2.0.0->tensorflow==2.0) (3.0.4)\n",
      "Requirement already satisfied: certifi>=2017.4.17 in /usr/local/lib/python3.6/dist-packages (from requests<3,>=2.21.0->tensorboard<2.1.0,>=2.0.0->tensorflow==2.0) (2020.6.20)\n",
      "Requirement already satisfied: idna<3,>=2.5 in /usr/local/lib/python3.6/dist-packages (from requests<3,>=2.21.0->tensorboard<2.1.0,>=2.0.0->tensorflow==2.0) (2.10)\n",
      "Requirement already satisfied: importlib-metadata; python_version < \"3.8\" in /usr/local/lib/python3.6/dist-packages (from markdown>=2.6.8->tensorboard<2.1.0,>=2.0.0->tensorflow==2.0) (2.0.0)\n",
      "Requirement already satisfied: pyasn1<0.5.0,>=0.4.6 in /usr/local/lib/python3.6/dist-packages (from pyasn1-modules>=0.2.1->google-auth<2,>=1.6.3->tensorboard<2.1.0,>=2.0.0->tensorflow==2.0) (0.4.8)\n",
      "Requirement already satisfied: oauthlib>=3.0.0 in /usr/local/lib/python3.6/dist-packages (from requests-oauthlib>=0.7.0->google-auth-oauthlib<0.5,>=0.4.1->tensorboard<2.1.0,>=2.0.0->tensorflow==2.0) (3.1.0)\n",
      "Requirement already satisfied: zipp>=0.5 in /usr/local/lib/python3.6/dist-packages (from importlib-metadata; python_version < \"3.8\"->markdown>=2.6.8->tensorboard<2.1.0,>=2.0.0->tensorflow==2.0) (3.2.0)\n"
     ]
    }
   ],
   "source": [
    "!pip install tensorflow==2.0"
   ]
  },
  {
   "cell_type": "markdown",
   "metadata": {
    "id": "17PLRgWfmZbG"
   },
   "source": [
    "Import tensorflow library"
   ]
  },
  {
   "cell_type": "code",
   "execution_count": null,
   "metadata": {
    "colab": {
     "base_uri": "https://localhost:8080/",
     "height": 34
    },
    "executionInfo": {
     "elapsed": 5056,
     "status": "ok",
     "timestamp": 1602785959920,
     "user": {
      "displayName": "Solomon Nuhu",
      "photoUrl": "https://lh3.googleusercontent.com/a-/AOh14Ggv4HA3lMlO6cSybPvdyNLxvAUB7S8iulFIRWU-=s64",
      "userId": "02036511388837544815"
     },
     "user_tz": -60
    },
    "id": "fxf4Wep7FYCW",
    "outputId": "23bf5c56-9cbf-4563-d49f-48189fa62dae"
   },
   "outputs": [
    {
     "name": "stdout",
     "output_type": "stream",
     "text": [
      "2.0.0\n"
     ]
    }
   ],
   "source": [
    "import tensorflow as tf\n",
    "print(tf.__version__)"
   ]
  },
  {
   "cell_type": "markdown",
   "metadata": {
    "id": "6CIhtwMUmG84"
   },
   "source": [
    "Import libraries"
   ]
  },
  {
   "cell_type": "code",
   "execution_count": null,
   "metadata": {
    "id": "0J4djjgNFdi5"
   },
   "outputs": [],
   "source": [
    "import pandas as pd\n",
    "import numpy as np\n",
    "from sklearn.model_selection import train_test_split\n",
    "import tensorflow as tf\n",
    "from sklearn.preprocessing import StandardScaler\n",
    "from tensorflow.keras.models import Sequential#To initialize neural network\n",
    "from tensorflow.keras.layers import Dense, Dropout, BatchNormalization #Used to create neural network layers\n",
    "from sklearn.metrics import accuracy_score, confusion_matrix, precision_score, recall_score, f1_score, precision_recall_curve, auc\n",
    "import matplotlib.pyplot as plt\n",
    "from tensorflow.keras import optimizers"
   ]
  },
  {
   "cell_type": "markdown",
   "metadata": {
    "id": "Ue3-dazPJB0J"
   },
   "source": [
    "1. Read the dataset"
   ]
  },
  {
   "cell_type": "code",
   "execution_count": null,
   "metadata": {
    "id": "baBh30p3Flir"
   },
   "outputs": [],
   "source": [
    "#Import google drive library\n",
    "from google.colab import drive"
   ]
  },
  {
   "cell_type": "code",
   "execution_count": null,
   "metadata": {
    "colab": {
     "base_uri": "https://localhost:8080/",
     "height": 34
    },
    "executionInfo": {
     "elapsed": 5375,
     "status": "ok",
     "timestamp": 1602785960277,
     "user": {
      "displayName": "Solomon Nuhu",
      "photoUrl": "https://lh3.googleusercontent.com/a-/AOh14Ggv4HA3lMlO6cSybPvdyNLxvAUB7S8iulFIRWU-=s64",
      "userId": "02036511388837544815"
     },
     "user_tz": -60
    },
    "id": "QK6wxpOWFm2g",
    "outputId": "bacbada9-8dcf-4d05-a5a2-ea39e46ee799"
   },
   "outputs": [
    {
     "name": "stdout",
     "output_type": "stream",
     "text": [
      "Drive already mounted at /content/drive/; to attempt to forcibly remount, call drive.mount(\"/content/drive/\", force_remount=True).\n"
     ]
    }
   ],
   "source": [
    "#Mount the drive\n",
    "drive.mount('/content/drive/')"
   ]
  },
  {
   "cell_type": "code",
   "execution_count": null,
   "metadata": {
    "id": "OrrjyMA-FsgT"
   },
   "outputs": [],
   "source": [
    "#Point drive to project directory\n",
    "project_path = '/content/drive/My Drive/Colab Notebooks/'"
   ]
  },
  {
   "cell_type": "code",
   "execution_count": null,
   "metadata": {
    "id": "Jzccwz-9F1tQ"
   },
   "outputs": [],
   "source": [
    "#Set path to the project directory\n",
    "dataset_file = project_path + 'Churn_Modelling.csv'"
   ]
  },
  {
   "cell_type": "code",
   "execution_count": null,
   "metadata": {
    "id": "M9dzQ8TLGE44"
   },
   "outputs": [],
   "source": [
    "#Read file from the project directory\n",
    "data = pd.read_csv(dataset_file)"
   ]
  },
  {
   "cell_type": "code",
   "execution_count": null,
   "metadata": {
    "colab": {
     "base_uri": "https://localhost:8080/",
     "height": 195
    },
    "executionInfo": {
     "elapsed": 5334,
     "status": "ok",
     "timestamp": 1602785960280,
     "user": {
      "displayName": "Solomon Nuhu",
      "photoUrl": "https://lh3.googleusercontent.com/a-/AOh14Ggv4HA3lMlO6cSybPvdyNLxvAUB7S8iulFIRWU-=s64",
      "userId": "02036511388837544815"
     },
     "user_tz": -60
    },
    "id": "7-TXkkAdGKVU",
    "outputId": "c5c3e9cf-cd85-49c3-a1e0-91cef74c3d37"
   },
   "outputs": [
    {
     "data": {
      "text/html": [
       "<div>\n",
       "<style scoped>\n",
       "    .dataframe tbody tr th:only-of-type {\n",
       "        vertical-align: middle;\n",
       "    }\n",
       "\n",
       "    .dataframe tbody tr th {\n",
       "        vertical-align: top;\n",
       "    }\n",
       "\n",
       "    .dataframe thead th {\n",
       "        text-align: right;\n",
       "    }\n",
       "</style>\n",
       "<table border=\"1\" class=\"dataframe\">\n",
       "  <thead>\n",
       "    <tr style=\"text-align: right;\">\n",
       "      <th></th>\n",
       "      <th>RowNumber</th>\n",
       "      <th>CustomerId</th>\n",
       "      <th>Surname</th>\n",
       "      <th>CreditScore</th>\n",
       "      <th>Geography</th>\n",
       "      <th>Gender</th>\n",
       "      <th>Age</th>\n",
       "      <th>Tenure</th>\n",
       "      <th>Balance</th>\n",
       "      <th>NumOfProducts</th>\n",
       "      <th>HasCrCard</th>\n",
       "      <th>IsActiveMember</th>\n",
       "      <th>EstimatedSalary</th>\n",
       "      <th>Exited</th>\n",
       "    </tr>\n",
       "  </thead>\n",
       "  <tbody>\n",
       "    <tr>\n",
       "      <th>0</th>\n",
       "      <td>1</td>\n",
       "      <td>15634602</td>\n",
       "      <td>Hargrave</td>\n",
       "      <td>619</td>\n",
       "      <td>France</td>\n",
       "      <td>Female</td>\n",
       "      <td>42</td>\n",
       "      <td>2</td>\n",
       "      <td>0.00</td>\n",
       "      <td>1</td>\n",
       "      <td>1</td>\n",
       "      <td>1</td>\n",
       "      <td>101348.88</td>\n",
       "      <td>1</td>\n",
       "    </tr>\n",
       "    <tr>\n",
       "      <th>1</th>\n",
       "      <td>2</td>\n",
       "      <td>15647311</td>\n",
       "      <td>Hill</td>\n",
       "      <td>608</td>\n",
       "      <td>Spain</td>\n",
       "      <td>Female</td>\n",
       "      <td>41</td>\n",
       "      <td>1</td>\n",
       "      <td>83807.86</td>\n",
       "      <td>1</td>\n",
       "      <td>0</td>\n",
       "      <td>1</td>\n",
       "      <td>112542.58</td>\n",
       "      <td>0</td>\n",
       "    </tr>\n",
       "    <tr>\n",
       "      <th>2</th>\n",
       "      <td>3</td>\n",
       "      <td>15619304</td>\n",
       "      <td>Onio</td>\n",
       "      <td>502</td>\n",
       "      <td>France</td>\n",
       "      <td>Female</td>\n",
       "      <td>42</td>\n",
       "      <td>8</td>\n",
       "      <td>159660.80</td>\n",
       "      <td>3</td>\n",
       "      <td>1</td>\n",
       "      <td>0</td>\n",
       "      <td>113931.57</td>\n",
       "      <td>1</td>\n",
       "    </tr>\n",
       "    <tr>\n",
       "      <th>3</th>\n",
       "      <td>4</td>\n",
       "      <td>15701354</td>\n",
       "      <td>Boni</td>\n",
       "      <td>699</td>\n",
       "      <td>France</td>\n",
       "      <td>Female</td>\n",
       "      <td>39</td>\n",
       "      <td>1</td>\n",
       "      <td>0.00</td>\n",
       "      <td>2</td>\n",
       "      <td>0</td>\n",
       "      <td>0</td>\n",
       "      <td>93826.63</td>\n",
       "      <td>0</td>\n",
       "    </tr>\n",
       "    <tr>\n",
       "      <th>4</th>\n",
       "      <td>5</td>\n",
       "      <td>15737888</td>\n",
       "      <td>Mitchell</td>\n",
       "      <td>850</td>\n",
       "      <td>Spain</td>\n",
       "      <td>Female</td>\n",
       "      <td>43</td>\n",
       "      <td>2</td>\n",
       "      <td>125510.82</td>\n",
       "      <td>1</td>\n",
       "      <td>1</td>\n",
       "      <td>1</td>\n",
       "      <td>79084.10</td>\n",
       "      <td>0</td>\n",
       "    </tr>\n",
       "  </tbody>\n",
       "</table>\n",
       "</div>"
      ],
      "text/plain": [
       "   RowNumber  CustomerId   Surname  ...  IsActiveMember EstimatedSalary Exited\n",
       "0          1    15634602  Hargrave  ...               1       101348.88      1\n",
       "1          2    15647311      Hill  ...               1       112542.58      0\n",
       "2          3    15619304      Onio  ...               0       113931.57      1\n",
       "3          4    15701354      Boni  ...               0        93826.63      0\n",
       "4          5    15737888  Mitchell  ...               1        79084.10      0\n",
       "\n",
       "[5 rows x 14 columns]"
      ]
     },
     "execution_count": 9,
     "metadata": {
      "tags": []
     },
     "output_type": "execute_result"
    }
   ],
   "source": [
    "#Display first five rows of the dataset\n",
    "data.head()"
   ]
  },
  {
   "cell_type": "markdown",
   "metadata": {
    "id": "ptkJdFzupKZq"
   },
   "source": [
    "Majority of features in the dataset are numeric and only five are categorical. Two(Gender and Geography) out of the five need to be encoded. Also, the features \"RowNumber\",\"CustomerId\" and \"Surname\" are unique and adds little value to this analysis hence will be dropped in the next step. "
   ]
  },
  {
   "cell_type": "code",
   "execution_count": null,
   "metadata": {
    "colab": {
     "base_uri": "https://localhost:8080/",
     "height": 370
    },
    "executionInfo": {
     "elapsed": 5316,
     "status": "ok",
     "timestamp": 1602785960281,
     "user": {
      "displayName": "Solomon Nuhu",
      "photoUrl": "https://lh3.googleusercontent.com/a-/AOh14Ggv4HA3lMlO6cSybPvdyNLxvAUB7S8iulFIRWU-=s64",
      "userId": "02036511388837544815"
     },
     "user_tz": -60
    },
    "id": "IjJjALmavzSZ",
    "outputId": "80aba862-d6f1-48a1-f124-ff3332805c2d"
   },
   "outputs": [
    {
     "name": "stdout",
     "output_type": "stream",
     "text": [
      "<class 'pandas.core.frame.DataFrame'>\n",
      "RangeIndex: 10000 entries, 0 to 9999\n",
      "Data columns (total 14 columns):\n",
      " #   Column           Non-Null Count  Dtype  \n",
      "---  ------           --------------  -----  \n",
      " 0   RowNumber        10000 non-null  int64  \n",
      " 1   CustomerId       10000 non-null  int64  \n",
      " 2   Surname          10000 non-null  object \n",
      " 3   CreditScore      10000 non-null  int64  \n",
      " 4   Geography        10000 non-null  object \n",
      " 5   Gender           10000 non-null  object \n",
      " 6   Age              10000 non-null  int64  \n",
      " 7   Tenure           10000 non-null  int64  \n",
      " 8   Balance          10000 non-null  float64\n",
      " 9   NumOfProducts    10000 non-null  int64  \n",
      " 10  HasCrCard        10000 non-null  int64  \n",
      " 11  IsActiveMember   10000 non-null  int64  \n",
      " 12  EstimatedSalary  10000 non-null  float64\n",
      " 13  Exited           10000 non-null  int64  \n",
      "dtypes: float64(2), int64(9), object(3)\n",
      "memory usage: 1.1+ MB\n"
     ]
    }
   ],
   "source": [
    "#Check for non-null objects and data types\n",
    "data.info()"
   ]
  },
  {
   "cell_type": "markdown",
   "metadata": {
    "id": "qUAFNI4Yv2hJ"
   },
   "source": [
    "From the above table,it can be seen that there are no non-number values hence we can continue with this analysis."
   ]
  },
  {
   "cell_type": "markdown",
   "metadata": {
    "id": "concN0bBJWyp"
   },
   "source": [
    "2. Drop the columns which are unique for all users like IDs (5 points)"
   ]
  },
  {
   "cell_type": "code",
   "execution_count": null,
   "metadata": {
    "colab": {
     "base_uri": "https://localhost:8080/",
     "height": 195
    },
    "executionInfo": {
     "elapsed": 5293,
     "status": "ok",
     "timestamp": 1602785960281,
     "user": {
      "displayName": "Solomon Nuhu",
      "photoUrl": "https://lh3.googleusercontent.com/a-/AOh14Ggv4HA3lMlO6cSybPvdyNLxvAUB7S8iulFIRWU-=s64",
      "userId": "02036511388837544815"
     },
     "user_tz": -60
    },
    "id": "qohxNHtdJc-i",
    "outputId": "352b218f-83d7-455c-ee0e-61194a55dd98"
   },
   "outputs": [
    {
     "data": {
      "text/html": [
       "<div>\n",
       "<style scoped>\n",
       "    .dataframe tbody tr th:only-of-type {\n",
       "        vertical-align: middle;\n",
       "    }\n",
       "\n",
       "    .dataframe tbody tr th {\n",
       "        vertical-align: top;\n",
       "    }\n",
       "\n",
       "    .dataframe thead th {\n",
       "        text-align: right;\n",
       "    }\n",
       "</style>\n",
       "<table border=\"1\" class=\"dataframe\">\n",
       "  <thead>\n",
       "    <tr style=\"text-align: right;\">\n",
       "      <th></th>\n",
       "      <th>CreditScore</th>\n",
       "      <th>Geography</th>\n",
       "      <th>Gender</th>\n",
       "      <th>Age</th>\n",
       "      <th>Tenure</th>\n",
       "      <th>Balance</th>\n",
       "      <th>NumOfProducts</th>\n",
       "      <th>HasCrCard</th>\n",
       "      <th>IsActiveMember</th>\n",
       "      <th>EstimatedSalary</th>\n",
       "      <th>Exited</th>\n",
       "    </tr>\n",
       "  </thead>\n",
       "  <tbody>\n",
       "    <tr>\n",
       "      <th>0</th>\n",
       "      <td>619</td>\n",
       "      <td>France</td>\n",
       "      <td>Female</td>\n",
       "      <td>42</td>\n",
       "      <td>2</td>\n",
       "      <td>0.00</td>\n",
       "      <td>1</td>\n",
       "      <td>1</td>\n",
       "      <td>1</td>\n",
       "      <td>101348.88</td>\n",
       "      <td>1</td>\n",
       "    </tr>\n",
       "    <tr>\n",
       "      <th>1</th>\n",
       "      <td>608</td>\n",
       "      <td>Spain</td>\n",
       "      <td>Female</td>\n",
       "      <td>41</td>\n",
       "      <td>1</td>\n",
       "      <td>83807.86</td>\n",
       "      <td>1</td>\n",
       "      <td>0</td>\n",
       "      <td>1</td>\n",
       "      <td>112542.58</td>\n",
       "      <td>0</td>\n",
       "    </tr>\n",
       "    <tr>\n",
       "      <th>2</th>\n",
       "      <td>502</td>\n",
       "      <td>France</td>\n",
       "      <td>Female</td>\n",
       "      <td>42</td>\n",
       "      <td>8</td>\n",
       "      <td>159660.80</td>\n",
       "      <td>3</td>\n",
       "      <td>1</td>\n",
       "      <td>0</td>\n",
       "      <td>113931.57</td>\n",
       "      <td>1</td>\n",
       "    </tr>\n",
       "    <tr>\n",
       "      <th>3</th>\n",
       "      <td>699</td>\n",
       "      <td>France</td>\n",
       "      <td>Female</td>\n",
       "      <td>39</td>\n",
       "      <td>1</td>\n",
       "      <td>0.00</td>\n",
       "      <td>2</td>\n",
       "      <td>0</td>\n",
       "      <td>0</td>\n",
       "      <td>93826.63</td>\n",
       "      <td>0</td>\n",
       "    </tr>\n",
       "    <tr>\n",
       "      <th>4</th>\n",
       "      <td>850</td>\n",
       "      <td>Spain</td>\n",
       "      <td>Female</td>\n",
       "      <td>43</td>\n",
       "      <td>2</td>\n",
       "      <td>125510.82</td>\n",
       "      <td>1</td>\n",
       "      <td>1</td>\n",
       "      <td>1</td>\n",
       "      <td>79084.10</td>\n",
       "      <td>0</td>\n",
       "    </tr>\n",
       "  </tbody>\n",
       "</table>\n",
       "</div>"
      ],
      "text/plain": [
       "   CreditScore Geography  Gender  ...  IsActiveMember  EstimatedSalary  Exited\n",
       "0          619    France  Female  ...               1        101348.88       1\n",
       "1          608     Spain  Female  ...               1        112542.58       0\n",
       "2          502    France  Female  ...               0        113931.57       1\n",
       "3          699    France  Female  ...               0         93826.63       0\n",
       "4          850     Spain  Female  ...               1         79084.10       0\n",
       "\n",
       "[5 rows x 11 columns]"
      ]
     },
     "execution_count": 11,
     "metadata": {
      "tags": []
     },
     "output_type": "execute_result"
    }
   ],
   "source": [
    "#Dropping unique features and display first five rows\n",
    "data = data.drop([\"RowNumber\",\"CustomerId\",\"Surname\"], axis = 1)\n",
    "data.head()"
   ]
  },
  {
   "cell_type": "markdown",
   "metadata": {
    "id": "UDd-xrJ3OzCm"
   },
   "source": [
    "3. Distinguish the features and target variable (5 points)"
   ]
  },
  {
   "cell_type": "code",
   "execution_count": null,
   "metadata": {
    "id": "c1wY2OslO2Hq"
   },
   "outputs": [],
   "source": [
    "#Assign predictor columns to predictor variable X_data\n",
    "X_data = data.iloc[:, :-1]"
   ]
  },
  {
   "cell_type": "code",
   "execution_count": null,
   "metadata": {
    "colab": {
     "base_uri": "https://localhost:8080/",
     "height": 34
    },
    "executionInfo": {
     "elapsed": 5237,
     "status": "ok",
     "timestamp": 1602785960283,
     "user": {
      "displayName": "Solomon Nuhu",
      "photoUrl": "https://lh3.googleusercontent.com/a-/AOh14Ggv4HA3lMlO6cSybPvdyNLxvAUB7S8iulFIRWU-=s64",
      "userId": "02036511388837544815"
     },
     "user_tz": -60
    },
    "id": "AGlGXQxPSIti",
    "outputId": "2ca0ac4e-90eb-49ef-8776-b2610f31bfe1"
   },
   "outputs": [
    {
     "data": {
      "text/plain": [
       "(10000, 10)"
      ]
     },
     "execution_count": 13,
     "metadata": {
      "tags": []
     },
     "output_type": "execute_result"
    }
   ],
   "source": [
    "#Display number of rows and columns of predictor variables\n",
    "X_data.shape"
   ]
  },
  {
   "cell_type": "code",
   "execution_count": null,
   "metadata": {
    "colab": {
     "base_uri": "https://localhost:8080/",
     "height": 195
    },
    "executionInfo": {
     "elapsed": 5216,
     "status": "ok",
     "timestamp": 1602785960285,
     "user": {
      "displayName": "Solomon Nuhu",
      "photoUrl": "https://lh3.googleusercontent.com/a-/AOh14Ggv4HA3lMlO6cSybPvdyNLxvAUB7S8iulFIRWU-=s64",
      "userId": "02036511388837544815"
     },
     "user_tz": -60
    },
    "id": "Wd5fcTjgShM5",
    "outputId": "839b83cd-1bc2-4d78-a62d-5ca16a98f6ab"
   },
   "outputs": [
    {
     "data": {
      "text/html": [
       "<div>\n",
       "<style scoped>\n",
       "    .dataframe tbody tr th:only-of-type {\n",
       "        vertical-align: middle;\n",
       "    }\n",
       "\n",
       "    .dataframe tbody tr th {\n",
       "        vertical-align: top;\n",
       "    }\n",
       "\n",
       "    .dataframe thead th {\n",
       "        text-align: right;\n",
       "    }\n",
       "</style>\n",
       "<table border=\"1\" class=\"dataframe\">\n",
       "  <thead>\n",
       "    <tr style=\"text-align: right;\">\n",
       "      <th></th>\n",
       "      <th>CreditScore</th>\n",
       "      <th>Geography</th>\n",
       "      <th>Gender</th>\n",
       "      <th>Age</th>\n",
       "      <th>Tenure</th>\n",
       "      <th>Balance</th>\n",
       "      <th>NumOfProducts</th>\n",
       "      <th>HasCrCard</th>\n",
       "      <th>IsActiveMember</th>\n",
       "      <th>EstimatedSalary</th>\n",
       "    </tr>\n",
       "  </thead>\n",
       "  <tbody>\n",
       "    <tr>\n",
       "      <th>0</th>\n",
       "      <td>619</td>\n",
       "      <td>France</td>\n",
       "      <td>Female</td>\n",
       "      <td>42</td>\n",
       "      <td>2</td>\n",
       "      <td>0.00</td>\n",
       "      <td>1</td>\n",
       "      <td>1</td>\n",
       "      <td>1</td>\n",
       "      <td>101348.88</td>\n",
       "    </tr>\n",
       "    <tr>\n",
       "      <th>1</th>\n",
       "      <td>608</td>\n",
       "      <td>Spain</td>\n",
       "      <td>Female</td>\n",
       "      <td>41</td>\n",
       "      <td>1</td>\n",
       "      <td>83807.86</td>\n",
       "      <td>1</td>\n",
       "      <td>0</td>\n",
       "      <td>1</td>\n",
       "      <td>112542.58</td>\n",
       "    </tr>\n",
       "    <tr>\n",
       "      <th>2</th>\n",
       "      <td>502</td>\n",
       "      <td>France</td>\n",
       "      <td>Female</td>\n",
       "      <td>42</td>\n",
       "      <td>8</td>\n",
       "      <td>159660.80</td>\n",
       "      <td>3</td>\n",
       "      <td>1</td>\n",
       "      <td>0</td>\n",
       "      <td>113931.57</td>\n",
       "    </tr>\n",
       "    <tr>\n",
       "      <th>3</th>\n",
       "      <td>699</td>\n",
       "      <td>France</td>\n",
       "      <td>Female</td>\n",
       "      <td>39</td>\n",
       "      <td>1</td>\n",
       "      <td>0.00</td>\n",
       "      <td>2</td>\n",
       "      <td>0</td>\n",
       "      <td>0</td>\n",
       "      <td>93826.63</td>\n",
       "    </tr>\n",
       "    <tr>\n",
       "      <th>4</th>\n",
       "      <td>850</td>\n",
       "      <td>Spain</td>\n",
       "      <td>Female</td>\n",
       "      <td>43</td>\n",
       "      <td>2</td>\n",
       "      <td>125510.82</td>\n",
       "      <td>1</td>\n",
       "      <td>1</td>\n",
       "      <td>1</td>\n",
       "      <td>79084.10</td>\n",
       "    </tr>\n",
       "  </tbody>\n",
       "</table>\n",
       "</div>"
      ],
      "text/plain": [
       "   CreditScore Geography  Gender  ...  HasCrCard  IsActiveMember  EstimatedSalary\n",
       "0          619    France  Female  ...          1               1        101348.88\n",
       "1          608     Spain  Female  ...          0               1        112542.58\n",
       "2          502    France  Female  ...          1               0        113931.57\n",
       "3          699    France  Female  ...          0               0         93826.63\n",
       "4          850     Spain  Female  ...          1               1         79084.10\n",
       "\n",
       "[5 rows x 10 columns]"
      ]
     },
     "execution_count": 14,
     "metadata": {
      "tags": []
     },
     "output_type": "execute_result"
    }
   ],
   "source": [
    "#Display first five rows of predictor variables \n",
    "X_data.head()"
   ]
  },
  {
   "cell_type": "code",
   "execution_count": null,
   "metadata": {
    "id": "RHzNOQ2lTLKi"
   },
   "outputs": [],
   "source": [
    "#Assign target column to target variable y_data\n",
    "y_data = data.iloc[:, -1]"
   ]
  },
  {
   "cell_type": "code",
   "execution_count": null,
   "metadata": {
    "colab": {
     "base_uri": "https://localhost:8080/",
     "height": 34
    },
    "executionInfo": {
     "elapsed": 5178,
     "status": "ok",
     "timestamp": 1602785960286,
     "user": {
      "displayName": "Solomon Nuhu",
      "photoUrl": "https://lh3.googleusercontent.com/a-/AOh14Ggv4HA3lMlO6cSybPvdyNLxvAUB7S8iulFIRWU-=s64",
      "userId": "02036511388837544815"
     },
     "user_tz": -60
    },
    "id": "cOxa6P__TNhf",
    "outputId": "cdb9c609-a50f-406f-d961-66c5c5d02e36"
   },
   "outputs": [
    {
     "data": {
      "text/plain": [
       "(10000,)"
      ]
     },
     "execution_count": 16,
     "metadata": {
      "tags": []
     },
     "output_type": "execute_result"
    }
   ],
   "source": [
    "#Display number of rows and columns of target variable\n",
    "y_data.shape"
   ]
  },
  {
   "cell_type": "code",
   "execution_count": null,
   "metadata": {
    "colab": {
     "base_uri": "https://localhost:8080/",
     "height": 218
    },
    "executionInfo": {
     "elapsed": 5150,
     "status": "ok",
     "timestamp": 1602785960287,
     "user": {
      "displayName": "Solomon Nuhu",
      "photoUrl": "https://lh3.googleusercontent.com/a-/AOh14Ggv4HA3lMlO6cSybPvdyNLxvAUB7S8iulFIRWU-=s64",
      "userId": "02036511388837544815"
     },
     "user_tz": -60
    },
    "id": "AulEZ5CPxzDO",
    "outputId": "86ce8918-11ff-4be2-ab5b-837861d268e6"
   },
   "outputs": [
    {
     "name": "stdout",
     "output_type": "stream",
     "text": [
      "[[619 'France' 'Female' 42 2 0.0 1 1 1 101348.88]\n",
      " [608 'Spain' 'Female' 41 1 83807.86 1 0 1 112542.58]\n",
      " [502 'France' 'Female' 42 8 159660.8 3 1 0 113931.57]\n",
      " [699 'France' 'Female' 39 1 0.0 2 0 0 93826.63]\n",
      " [850 'Spain' 'Female' 43 2 125510.82 1 1 1 79084.1]\n",
      " [645 'Spain' 'Male' 44 8 113755.78 2 1 0 149756.71]\n",
      " [822 'France' 'Male' 50 7 0.0 2 1 1 10062.8]\n",
      " [376 'Germany' 'Female' 29 4 115046.74 4 1 0 119346.88]\n",
      " [501 'France' 'Male' 44 4 142051.07 2 0 1 74940.5]\n",
      " [684 'France' 'Male' 27 2 134603.88 1 1 1 71725.73]] \n",
      "\n",
      "[1 0 1 0 0 1 0 1 0 0]\n"
     ]
    }
   ],
   "source": [
    "#Display first 5 rows of predictor and target variables in form of an array\n",
    "X_data1=X_data.values\n",
    "y_data1=y_data.values\n",
    "print(X_data1[:10,:], '\\n')\n",
    "print(y_data1[:10])"
   ]
  },
  {
   "cell_type": "markdown",
   "metadata": {
    "id": "pmyVUVHw0WEe"
   },
   "source": [
    "In step 1, we mentioned Geography and Gender need to be encoded. That will be done in the next cell"
   ]
  },
  {
   "cell_type": "code",
   "execution_count": null,
   "metadata": {
    "colab": {
     "base_uri": "https://localhost:8080/",
     "height": 402
    },
    "executionInfo": {
     "elapsed": 5492,
     "status": "ok",
     "timestamp": 1602785960649,
     "user": {
      "displayName": "Solomon Nuhu",
      "photoUrl": "https://lh3.googleusercontent.com/a-/AOh14Ggv4HA3lMlO6cSybPvdyNLxvAUB7S8iulFIRWU-=s64",
      "userId": "02036511388837544815"
     },
     "user_tz": -60
    },
    "id": "9R9RycpX0QYw",
    "outputId": "d0548d88-0d02-4055-9c4e-889738e2abc0"
   },
   "outputs": [
    {
     "data": {
      "text/html": [
       "<div>\n",
       "<style scoped>\n",
       "    .dataframe tbody tr th:only-of-type {\n",
       "        vertical-align: middle;\n",
       "    }\n",
       "\n",
       "    .dataframe tbody tr th {\n",
       "        vertical-align: top;\n",
       "    }\n",
       "\n",
       "    .dataframe thead th {\n",
       "        text-align: right;\n",
       "    }\n",
       "</style>\n",
       "<table border=\"1\" class=\"dataframe\">\n",
       "  <thead>\n",
       "    <tr style=\"text-align: right;\">\n",
       "      <th></th>\n",
       "      <th>CreditScore</th>\n",
       "      <th>Age</th>\n",
       "      <th>Tenure</th>\n",
       "      <th>Balance</th>\n",
       "      <th>NumOfProducts</th>\n",
       "      <th>HasCrCard</th>\n",
       "      <th>IsActiveMember</th>\n",
       "      <th>EstimatedSalary</th>\n",
       "      <th>Geography_France</th>\n",
       "      <th>Geography_Germany</th>\n",
       "      <th>Gender_Female</th>\n",
       "    </tr>\n",
       "  </thead>\n",
       "  <tbody>\n",
       "    <tr>\n",
       "      <th>0</th>\n",
       "      <td>619.0</td>\n",
       "      <td>42.0</td>\n",
       "      <td>2.0</td>\n",
       "      <td>0.000000</td>\n",
       "      <td>1.0</td>\n",
       "      <td>1.0</td>\n",
       "      <td>1.0</td>\n",
       "      <td>101348.882812</td>\n",
       "      <td>1.0</td>\n",
       "      <td>0.0</td>\n",
       "      <td>1.0</td>\n",
       "    </tr>\n",
       "    <tr>\n",
       "      <th>1</th>\n",
       "      <td>608.0</td>\n",
       "      <td>41.0</td>\n",
       "      <td>1.0</td>\n",
       "      <td>83807.859375</td>\n",
       "      <td>1.0</td>\n",
       "      <td>0.0</td>\n",
       "      <td>1.0</td>\n",
       "      <td>112542.578125</td>\n",
       "      <td>0.0</td>\n",
       "      <td>0.0</td>\n",
       "      <td>1.0</td>\n",
       "    </tr>\n",
       "    <tr>\n",
       "      <th>2</th>\n",
       "      <td>502.0</td>\n",
       "      <td>42.0</td>\n",
       "      <td>8.0</td>\n",
       "      <td>159660.796875</td>\n",
       "      <td>3.0</td>\n",
       "      <td>1.0</td>\n",
       "      <td>0.0</td>\n",
       "      <td>113931.570312</td>\n",
       "      <td>1.0</td>\n",
       "      <td>0.0</td>\n",
       "      <td>1.0</td>\n",
       "    </tr>\n",
       "    <tr>\n",
       "      <th>3</th>\n",
       "      <td>699.0</td>\n",
       "      <td>39.0</td>\n",
       "      <td>1.0</td>\n",
       "      <td>0.000000</td>\n",
       "      <td>2.0</td>\n",
       "      <td>0.0</td>\n",
       "      <td>0.0</td>\n",
       "      <td>93826.632812</td>\n",
       "      <td>1.0</td>\n",
       "      <td>0.0</td>\n",
       "      <td>1.0</td>\n",
       "    </tr>\n",
       "    <tr>\n",
       "      <th>4</th>\n",
       "      <td>850.0</td>\n",
       "      <td>43.0</td>\n",
       "      <td>2.0</td>\n",
       "      <td>125510.820312</td>\n",
       "      <td>1.0</td>\n",
       "      <td>1.0</td>\n",
       "      <td>1.0</td>\n",
       "      <td>79084.101562</td>\n",
       "      <td>0.0</td>\n",
       "      <td>0.0</td>\n",
       "      <td>1.0</td>\n",
       "    </tr>\n",
       "    <tr>\n",
       "      <th>...</th>\n",
       "      <td>...</td>\n",
       "      <td>...</td>\n",
       "      <td>...</td>\n",
       "      <td>...</td>\n",
       "      <td>...</td>\n",
       "      <td>...</td>\n",
       "      <td>...</td>\n",
       "      <td>...</td>\n",
       "      <td>...</td>\n",
       "      <td>...</td>\n",
       "      <td>...</td>\n",
       "    </tr>\n",
       "    <tr>\n",
       "      <th>9995</th>\n",
       "      <td>771.0</td>\n",
       "      <td>39.0</td>\n",
       "      <td>5.0</td>\n",
       "      <td>0.000000</td>\n",
       "      <td>2.0</td>\n",
       "      <td>1.0</td>\n",
       "      <td>0.0</td>\n",
       "      <td>96270.640625</td>\n",
       "      <td>1.0</td>\n",
       "      <td>0.0</td>\n",
       "      <td>0.0</td>\n",
       "    </tr>\n",
       "    <tr>\n",
       "      <th>9996</th>\n",
       "      <td>516.0</td>\n",
       "      <td>35.0</td>\n",
       "      <td>10.0</td>\n",
       "      <td>57369.609375</td>\n",
       "      <td>1.0</td>\n",
       "      <td>1.0</td>\n",
       "      <td>1.0</td>\n",
       "      <td>101699.773438</td>\n",
       "      <td>1.0</td>\n",
       "      <td>0.0</td>\n",
       "      <td>0.0</td>\n",
       "    </tr>\n",
       "    <tr>\n",
       "      <th>9997</th>\n",
       "      <td>709.0</td>\n",
       "      <td>36.0</td>\n",
       "      <td>7.0</td>\n",
       "      <td>0.000000</td>\n",
       "      <td>1.0</td>\n",
       "      <td>0.0</td>\n",
       "      <td>1.0</td>\n",
       "      <td>42085.578125</td>\n",
       "      <td>1.0</td>\n",
       "      <td>0.0</td>\n",
       "      <td>1.0</td>\n",
       "    </tr>\n",
       "    <tr>\n",
       "      <th>9998</th>\n",
       "      <td>772.0</td>\n",
       "      <td>42.0</td>\n",
       "      <td>3.0</td>\n",
       "      <td>75075.312500</td>\n",
       "      <td>2.0</td>\n",
       "      <td>1.0</td>\n",
       "      <td>0.0</td>\n",
       "      <td>92888.523438</td>\n",
       "      <td>0.0</td>\n",
       "      <td>1.0</td>\n",
       "      <td>0.0</td>\n",
       "    </tr>\n",
       "    <tr>\n",
       "      <th>9999</th>\n",
       "      <td>792.0</td>\n",
       "      <td>28.0</td>\n",
       "      <td>4.0</td>\n",
       "      <td>130142.789062</td>\n",
       "      <td>1.0</td>\n",
       "      <td>1.0</td>\n",
       "      <td>0.0</td>\n",
       "      <td>38190.781250</td>\n",
       "      <td>1.0</td>\n",
       "      <td>0.0</td>\n",
       "      <td>1.0</td>\n",
       "    </tr>\n",
       "  </tbody>\n",
       "</table>\n",
       "<p>10000 rows × 11 columns</p>\n",
       "</div>"
      ],
      "text/plain": [
       "      CreditScore   Age  ...  Geography_Germany  Gender_Female\n",
       "0           619.0  42.0  ...                0.0            1.0\n",
       "1           608.0  41.0  ...                0.0            1.0\n",
       "2           502.0  42.0  ...                0.0            1.0\n",
       "3           699.0  39.0  ...                0.0            1.0\n",
       "4           850.0  43.0  ...                0.0            1.0\n",
       "...           ...   ...  ...                ...            ...\n",
       "9995        771.0  39.0  ...                0.0            0.0\n",
       "9996        516.0  35.0  ...                0.0            0.0\n",
       "9997        709.0  36.0  ...                0.0            1.0\n",
       "9998        772.0  42.0  ...                1.0            0.0\n",
       "9999        792.0  28.0  ...                0.0            1.0\n",
       "\n",
       "[10000 rows x 11 columns]"
      ]
     },
     "execution_count": 18,
     "metadata": {
      "tags": []
     },
     "output_type": "execute_result"
    }
   ],
   "source": [
    "#One hot encoding for gender and geography\n",
    "X_data = pd.get_dummies(X_data)\n",
    "#Dropping one of each encoded feature will improve computation time and stability without affecting the result\n",
    "X_data = X_data.drop(['Geography_Spain','Gender_Male'], axis=1)\n",
    "#Convert dataset to float\n",
    "X_data = X_data.astype('float32')\n",
    "X_data"
   ]
  },
  {
   "cell_type": "markdown",
   "metadata": {
    "id": "1ajxQJEtU1dn"
   },
   "source": [
    "4. Divide the data set into training and test sets (5 points)\n"
   ]
  },
  {
   "cell_type": "code",
   "execution_count": null,
   "metadata": {
    "id": "xrh8QUUxVEpg"
   },
   "outputs": [],
   "source": [
    "#Splitting the dataset into train and test in the ratio 80:20 percent\n",
    "X_train, X_test, y_train, y_test = train_test_split(X_data, y_data, test_size = 0.2, random_state = 0)"
   ]
  },
  {
   "cell_type": "markdown",
   "metadata": {
    "id": "dQxZYOqcV7ff"
   },
   "source": [
    "5. Normalize the train and test data (10 points)"
   ]
  },
  {
   "cell_type": "code",
   "execution_count": null,
   "metadata": {
    "id": "pojLxiFe3a7J"
   },
   "outputs": [],
   "source": [
    "#Normalizing train and test data\n",
    "sc = StandardScaler()\n",
    "X_train = sc.fit_transform(X_train)\n",
    "X_test = sc.transform(X_test)"
   ]
  },
  {
   "cell_type": "markdown",
   "metadata": {
    "id": "cKh0c6SXWw4l"
   },
   "source": [
    "6. Initialize & build the model. Identify the points of improvement and implement the same the same.(20)"
   ]
  },
  {
   "cell_type": "markdown",
   "metadata": {
    "id": "wiia3nDJlrFo"
   },
   "source": [
    "**Creating a model:** Keras model object can be created with Sequential class. At the outset, the model is empty per se. It is completed by adding additional layers and compilation"
   ]
  },
  {
   "cell_type": "code",
   "execution_count": null,
   "metadata": {
    "id": "h2f74vb4XJL_"
   },
   "outputs": [],
   "source": [
    "#Selecting the model to be used\n",
    "model = Sequential()"
   ]
  },
  {
   "cell_type": "markdown",
   "metadata": {
    "id": "ieuDA0MOmvOb"
   },
   "source": [
    "**Adding layers [layers and activations]:** Keras layers can be added to the model. Adding layers are like stacking lego blocks one by one. It should be noted that as this is a classification problem, sigmoid layer (softmax for multi-class problems) should be added"
   ]
  },
  {
   "cell_type": "code",
   "execution_count": null,
   "metadata": {
    "id": "Zy7Q1U5zZg5i"
   },
   "outputs": [],
   "source": [
    "model.add(Dense(16, input_dim = 11, activation = 'relu')) #First Hidden Layer With 16 nodes and 11 nodes from input layer\n",
    "model.add(Dense(8, activation = 'relu')) #Second Hidden Layer with 8 nodes\n",
    "model.add(Dense(1, activation = 'sigmoid')) #Output Layer with 1 node for classification problem"
   ]
  },
  {
   "cell_type": "markdown",
   "metadata": {
    "id": "TKLL081wojb7"
   },
   "source": [
    "**Model compile [optimizers and loss functions]:** Keras model should be \"compiled\" prior to training. Types of loss (function) and optimizer should be designated"
   ]
  },
  {
   "cell_type": "code",
   "execution_count": null,
   "metadata": {
    "id": "ZBLNdTayZvFo"
   },
   "outputs": [],
   "source": [
    "#Defining the optimizer and learning rate \n",
    "sgd = optimizers.Adam(lr = 0.001)"
   ]
  },
  {
   "cell_type": "code",
   "execution_count": null,
   "metadata": {
    "id": "-GWgW6ELZy87"
   },
   "outputs": [],
   "source": [
    "#Setting optimizer and loss function\n",
    "model.compile(optimizer = sgd, loss = 'binary_crossentropy', metrics=['accuracy'])"
   ]
  },
  {
   "cell_type": "code",
   "execution_count": null,
   "metadata": {
    "colab": {
     "base_uri": "https://localhost:8080/",
     "height": 252
    },
    "executionInfo": {
     "elapsed": 5390,
     "status": "ok",
     "timestamp": 1602785960654,
     "user": {
      "displayName": "Solomon Nuhu",
      "photoUrl": "https://lh3.googleusercontent.com/a-/AOh14Ggv4HA3lMlO6cSybPvdyNLxvAUB7S8iulFIRWU-=s64",
      "userId": "02036511388837544815"
     },
     "user_tz": -60
    },
    "id": "wZlwcBYxaDUE",
    "outputId": "4fdad681-55e0-4cc3-db61-77cc26907c24"
   },
   "outputs": [
    {
     "name": "stdout",
     "output_type": "stream",
     "text": [
      "Model: \"sequential\"\n",
      "_________________________________________________________________\n",
      "Layer (type)                 Output Shape              Param #   \n",
      "=================================================================\n",
      "dense (Dense)                (None, 16)                192       \n",
      "_________________________________________________________________\n",
      "dense_1 (Dense)              (None, 8)                 136       \n",
      "_________________________________________________________________\n",
      "dense_2 (Dense)              (None, 1)                 9         \n",
      "=================================================================\n",
      "Total params: 337\n",
      "Trainable params: 337\n",
      "Non-trainable params: 0\n",
      "_________________________________________________________________\n"
     ]
    }
   ],
   "source": [
    "#Display model summary of layers and parameters\n",
    "model.summary()"
   ]
  },
  {
   "cell_type": "code",
   "execution_count": null,
   "metadata": {
    "colab": {
     "base_uri": "https://localhost:8080/",
     "height": 1000
    },
    "executionInfo": {
     "elapsed": 8994,
     "status": "ok",
     "timestamp": 1602785964286,
     "user": {
      "displayName": "Solomon Nuhu",
      "photoUrl": "https://lh3.googleusercontent.com/a-/AOh14Ggv4HA3lMlO6cSybPvdyNLxvAUB7S8iulFIRWU-=s64",
      "userId": "02036511388837544815"
     },
     "user_tz": -60
    },
    "id": "Ad_pB2OVaPGu",
    "outputId": "c1dd4c5d-f7b0-4374-b8a9-d624d1820e9d"
   },
   "outputs": [
    {
     "name": "stdout",
     "output_type": "stream",
     "text": [
      "Train on 8000 samples\n",
      "Epoch 1/100\n",
      "8000/8000 [==============================] - 1s 81us/sample - loss: 1.5021 - accuracy: 0.2040\n",
      "Epoch 2/100\n",
      "8000/8000 [==============================] - 0s 3us/sample - loss: 1.2985 - accuracy: 0.2040\n",
      "Epoch 3/100\n",
      "8000/8000 [==============================] - 0s 3us/sample - loss: 1.1426 - accuracy: 0.2040\n",
      "Epoch 4/100\n",
      "8000/8000 [==============================] - 0s 4us/sample - loss: 1.0257 - accuracy: 0.2041\n",
      "Epoch 5/100\n",
      "8000/8000 [==============================] - 0s 3us/sample - loss: 0.9387 - accuracy: 0.2077\n",
      "Epoch 6/100\n",
      "8000/8000 [==============================] - 0s 3us/sample - loss: 0.8730 - accuracy: 0.2139\n",
      "Epoch 7/100\n",
      "8000/8000 [==============================] - 0s 3us/sample - loss: 0.8240 - accuracy: 0.2346\n",
      "Epoch 8/100\n",
      "8000/8000 [==============================] - 0s 3us/sample - loss: 0.7861 - accuracy: 0.2808\n",
      "Epoch 9/100\n",
      "8000/8000 [==============================] - 0s 3us/sample - loss: 0.7567 - accuracy: 0.3391\n",
      "Epoch 10/100\n",
      "8000/8000 [==============================] - 0s 3us/sample - loss: 0.7339 - accuracy: 0.4069\n",
      "Epoch 11/100\n",
      "8000/8000 [==============================] - 0s 4us/sample - loss: 0.7157 - accuracy: 0.4863\n",
      "Epoch 12/100\n",
      "8000/8000 [==============================] - 0s 5us/sample - loss: 0.7015 - accuracy: 0.5559\n",
      "Epoch 13/100\n",
      "8000/8000 [==============================] - 0s 4us/sample - loss: 0.6903 - accuracy: 0.6129\n",
      "Epoch 14/100\n",
      "8000/8000 [==============================] - 0s 3us/sample - loss: 0.6813 - accuracy: 0.6591\n",
      "Epoch 15/100\n",
      "8000/8000 [==============================] - 0s 3us/sample - loss: 0.6737 - accuracy: 0.6974\n",
      "Epoch 16/100\n",
      "8000/8000 [==============================] - 0s 3us/sample - loss: 0.6674 - accuracy: 0.7210\n",
      "Epoch 17/100\n",
      "8000/8000 [==============================] - 0s 3us/sample - loss: 0.6618 - accuracy: 0.7383\n",
      "Epoch 18/100\n",
      "8000/8000 [==============================] - 0s 3us/sample - loss: 0.6567 - accuracy: 0.7570\n",
      "Epoch 19/100\n",
      "8000/8000 [==============================] - 0s 3us/sample - loss: 0.6517 - accuracy: 0.7695\n",
      "Epoch 20/100\n",
      "8000/8000 [==============================] - 0s 4us/sample - loss: 0.6466 - accuracy: 0.7794\n",
      "Epoch 21/100\n",
      "8000/8000 [==============================] - 0s 4us/sample - loss: 0.6406 - accuracy: 0.7870\n",
      "Epoch 22/100\n",
      "8000/8000 [==============================] - 0s 4us/sample - loss: 0.6331 - accuracy: 0.7929\n",
      "Epoch 23/100\n",
      "8000/8000 [==============================] - 0s 4us/sample - loss: 0.6227 - accuracy: 0.7976\n",
      "Epoch 24/100\n",
      "8000/8000 [==============================] - 0s 3us/sample - loss: 0.6091 - accuracy: 0.8000\n",
      "Epoch 25/100\n",
      "8000/8000 [==============================] - 0s 3us/sample - loss: 0.5924 - accuracy: 0.7994\n",
      "Epoch 26/100\n",
      "8000/8000 [==============================] - 0s 4us/sample - loss: 0.5735 - accuracy: 0.7989\n",
      "Epoch 27/100\n",
      "8000/8000 [==============================] - 0s 4us/sample - loss: 0.5539 - accuracy: 0.7981\n",
      "Epoch 28/100\n",
      "8000/8000 [==============================] - 0s 4us/sample - loss: 0.5345 - accuracy: 0.7976\n",
      "Epoch 29/100\n",
      "8000/8000 [==============================] - 0s 3us/sample - loss: 0.5163 - accuracy: 0.7984\n",
      "Epoch 30/100\n",
      "8000/8000 [==============================] - 0s 4us/sample - loss: 0.5003 - accuracy: 0.7977\n",
      "Epoch 31/100\n",
      "8000/8000 [==============================] - 0s 3us/sample - loss: 0.4868 - accuracy: 0.7976\n",
      "Epoch 32/100\n",
      "8000/8000 [==============================] - 0s 4us/sample - loss: 0.4757 - accuracy: 0.7976\n",
      "Epoch 33/100\n",
      "8000/8000 [==============================] - 0s 4us/sample - loss: 0.4668 - accuracy: 0.7980\n",
      "Epoch 34/100\n",
      "8000/8000 [==============================] - 0s 3us/sample - loss: 0.4597 - accuracy: 0.7983\n",
      "Epoch 35/100\n",
      "8000/8000 [==============================] - 0s 4us/sample - loss: 0.4541 - accuracy: 0.7986\n",
      "Epoch 36/100\n",
      "8000/8000 [==============================] - 0s 4us/sample - loss: 0.4494 - accuracy: 0.7991\n",
      "Epoch 37/100\n",
      "8000/8000 [==============================] - 0s 4us/sample - loss: 0.4457 - accuracy: 0.8000\n",
      "Epoch 38/100\n",
      "8000/8000 [==============================] - 0s 4us/sample - loss: 0.4424 - accuracy: 0.8001\n",
      "Epoch 39/100\n",
      "8000/8000 [==============================] - 0s 4us/sample - loss: 0.4395 - accuracy: 0.8008\n",
      "Epoch 40/100\n",
      "8000/8000 [==============================] - 0s 3us/sample - loss: 0.4369 - accuracy: 0.8016\n",
      "Epoch 41/100\n",
      "8000/8000 [==============================] - 0s 3us/sample - loss: 0.4345 - accuracy: 0.8027\n",
      "Epoch 42/100\n",
      "8000/8000 [==============================] - 0s 3us/sample - loss: 0.4324 - accuracy: 0.8037\n",
      "Epoch 43/100\n",
      "8000/8000 [==============================] - 0s 4us/sample - loss: 0.4304 - accuracy: 0.8040\n",
      "Epoch 44/100\n",
      "8000/8000 [==============================] - 0s 4us/sample - loss: 0.4285 - accuracy: 0.8061\n",
      "Epoch 45/100\n",
      "8000/8000 [==============================] - 0s 4us/sample - loss: 0.4269 - accuracy: 0.8074\n",
      "Epoch 46/100\n",
      "8000/8000 [==============================] - 0s 5us/sample - loss: 0.4252 - accuracy: 0.8090\n",
      "Epoch 47/100\n",
      "8000/8000 [==============================] - 0s 4us/sample - loss: 0.4237 - accuracy: 0.8098\n",
      "Epoch 48/100\n",
      "8000/8000 [==============================] - 0s 4us/sample - loss: 0.4223 - accuracy: 0.8111\n",
      "Epoch 49/100\n",
      "8000/8000 [==============================] - 0s 3us/sample - loss: 0.4209 - accuracy: 0.8121\n",
      "Epoch 50/100\n",
      "8000/8000 [==============================] - 0s 3us/sample - loss: 0.4195 - accuracy: 0.8134\n",
      "Epoch 51/100\n",
      "8000/8000 [==============================] - 0s 4us/sample - loss: 0.4182 - accuracy: 0.8155\n",
      "Epoch 52/100\n",
      "8000/8000 [==============================] - 0s 4us/sample - loss: 0.4168 - accuracy: 0.8161\n",
      "Epoch 53/100\n",
      "8000/8000 [==============================] - 0s 4us/sample - loss: 0.4155 - accuracy: 0.8173\n",
      "Epoch 54/100\n",
      "8000/8000 [==============================] - 0s 4us/sample - loss: 0.4142 - accuracy: 0.8186\n",
      "Epoch 55/100\n",
      "8000/8000 [==============================] - 0s 4us/sample - loss: 0.4128 - accuracy: 0.8207\n",
      "Epoch 56/100\n",
      "8000/8000 [==============================] - 0s 3us/sample - loss: 0.4114 - accuracy: 0.8210\n",
      "Epoch 57/100\n",
      "8000/8000 [==============================] - 0s 4us/sample - loss: 0.4101 - accuracy: 0.8220\n",
      "Epoch 58/100\n",
      "8000/8000 [==============================] - 0s 4us/sample - loss: 0.4087 - accuracy: 0.8230\n",
      "Epoch 59/100\n",
      "8000/8000 [==============================] - 0s 3us/sample - loss: 0.4073 - accuracy: 0.8249\n",
      "Epoch 60/100\n",
      "8000/8000 [==============================] - 0s 3us/sample - loss: 0.4059 - accuracy: 0.8261\n",
      "Epoch 61/100\n",
      "8000/8000 [==============================] - 0s 4us/sample - loss: 0.4045 - accuracy: 0.8276\n",
      "Epoch 62/100\n",
      "8000/8000 [==============================] - 0s 3us/sample - loss: 0.4031 - accuracy: 0.8289\n",
      "Epoch 63/100\n",
      "8000/8000 [==============================] - 0s 4us/sample - loss: 0.4017 - accuracy: 0.8305\n",
      "Epoch 64/100\n",
      "8000/8000 [==============================] - 0s 3us/sample - loss: 0.4003 - accuracy: 0.8319\n",
      "Epoch 65/100\n",
      "8000/8000 [==============================] - 0s 3us/sample - loss: 0.3989 - accuracy: 0.8334\n",
      "Epoch 66/100\n",
      "8000/8000 [==============================] - 0s 3us/sample - loss: 0.3974 - accuracy: 0.8339\n",
      "Epoch 67/100\n",
      "8000/8000 [==============================] - 0s 3us/sample - loss: 0.3958 - accuracy: 0.8351\n",
      "Epoch 68/100\n",
      "8000/8000 [==============================] - 0s 4us/sample - loss: 0.3943 - accuracy: 0.8366\n",
      "Epoch 69/100\n",
      "8000/8000 [==============================] - 0s 4us/sample - loss: 0.3929 - accuracy: 0.8375\n",
      "Epoch 70/100\n",
      "8000/8000 [==============================] - 0s 4us/sample - loss: 0.3913 - accuracy: 0.8394\n",
      "Epoch 71/100\n",
      "8000/8000 [==============================] - 0s 3us/sample - loss: 0.3897 - accuracy: 0.8406\n",
      "Epoch 72/100\n",
      "8000/8000 [==============================] - 0s 4us/sample - loss: 0.3882 - accuracy: 0.8428\n",
      "Epoch 73/100\n",
      "8000/8000 [==============================] - 0s 4us/sample - loss: 0.3867 - accuracy: 0.8431\n",
      "Epoch 74/100\n",
      "8000/8000 [==============================] - 0s 3us/sample - loss: 0.3852 - accuracy: 0.8449\n",
      "Epoch 75/100\n",
      "8000/8000 [==============================] - 0s 3us/sample - loss: 0.3838 - accuracy: 0.8457\n",
      "Epoch 76/100\n",
      "8000/8000 [==============================] - 0s 3us/sample - loss: 0.3824 - accuracy: 0.8474\n",
      "Epoch 77/100\n",
      "8000/8000 [==============================] - 0s 3us/sample - loss: 0.3809 - accuracy: 0.8485\n",
      "Epoch 78/100\n",
      "8000/8000 [==============================] - 0s 3us/sample - loss: 0.3795 - accuracy: 0.8497\n",
      "Epoch 79/100\n",
      "8000/8000 [==============================] - 0s 3us/sample - loss: 0.3781 - accuracy: 0.8503\n",
      "Epoch 80/100\n",
      "8000/8000 [==============================] - 0s 5us/sample - loss: 0.3768 - accuracy: 0.8495\n",
      "Epoch 81/100\n",
      "8000/8000 [==============================] - 0s 3us/sample - loss: 0.3755 - accuracy: 0.8503\n",
      "Epoch 82/100\n",
      "8000/8000 [==============================] - 0s 4us/sample - loss: 0.3741 - accuracy: 0.8501\n",
      "Epoch 83/100\n",
      "8000/8000 [==============================] - 0s 3us/sample - loss: 0.3728 - accuracy: 0.8506\n",
      "Epoch 84/100\n",
      "8000/8000 [==============================] - 0s 4us/sample - loss: 0.3716 - accuracy: 0.8508\n",
      "Epoch 85/100\n",
      "8000/8000 [==============================] - 0s 4us/sample - loss: 0.3704 - accuracy: 0.8509\n",
      "Epoch 86/100\n",
      "8000/8000 [==============================] - 0s 4us/sample - loss: 0.3692 - accuracy: 0.8505\n",
      "Epoch 87/100\n",
      "8000/8000 [==============================] - 0s 4us/sample - loss: 0.3680 - accuracy: 0.8510\n",
      "Epoch 88/100\n",
      "8000/8000 [==============================] - 0s 4us/sample - loss: 0.3668 - accuracy: 0.8510\n",
      "Epoch 89/100\n",
      "8000/8000 [==============================] - 0s 4us/sample - loss: 0.3657 - accuracy: 0.8515\n",
      "Epoch 90/100\n",
      "8000/8000 [==============================] - 0s 3us/sample - loss: 0.3646 - accuracy: 0.8514\n",
      "Epoch 91/100\n",
      "8000/8000 [==============================] - 0s 3us/sample - loss: 0.3636 - accuracy: 0.8510\n",
      "Epoch 92/100\n",
      "8000/8000 [==============================] - 0s 4us/sample - loss: 0.3626 - accuracy: 0.8520\n",
      "Epoch 93/100\n",
      "8000/8000 [==============================] - 0s 4us/sample - loss: 0.3615 - accuracy: 0.8522\n",
      "Epoch 94/100\n",
      "8000/8000 [==============================] - 0s 3us/sample - loss: 0.3606 - accuracy: 0.8522\n",
      "Epoch 95/100\n",
      "8000/8000 [==============================] - 0s 4us/sample - loss: 0.3597 - accuracy: 0.8522\n",
      "Epoch 96/100\n",
      "8000/8000 [==============================] - 0s 4us/sample - loss: 0.3587 - accuracy: 0.8530\n",
      "Epoch 97/100\n",
      "8000/8000 [==============================] - 0s 4us/sample - loss: 0.3578 - accuracy: 0.8540\n",
      "Epoch 98/100\n",
      "8000/8000 [==============================] - 0s 4us/sample - loss: 0.3569 - accuracy: 0.8543\n",
      "Epoch 99/100\n",
      "8000/8000 [==============================] - 0s 4us/sample - loss: 0.3561 - accuracy: 0.8544\n",
      "Epoch 100/100\n",
      "8000/8000 [==============================] - 0s 4us/sample - loss: 0.3553 - accuracy: 0.8545\n"
     ]
    },
    {
     "data": {
      "text/plain": [
       "<tensorflow.python.keras.callbacks.History at 0x7f8a31c33ac8>"
      ]
     },
     "execution_count": 26,
     "metadata": {
      "tags": []
     },
     "output_type": "execute_result"
    }
   ],
   "source": [
    "#Fitting the model using forward and bacward propagation\n",
    "model.fit(X_train, y_train.values, batch_size = 700, epochs = 100, verbose = 1)"
   ]
  },
  {
   "cell_type": "code",
   "execution_count": null,
   "metadata": {
    "colab": {
     "base_uri": "https://localhost:8080/",
     "height": 54
    },
    "executionInfo": {
     "elapsed": 9324,
     "status": "ok",
     "timestamp": 1602785964637,
     "user": {
      "displayName": "Solomon Nuhu",
      "photoUrl": "https://lh3.googleusercontent.com/a-/AOh14Ggv4HA3lMlO6cSybPvdyNLxvAUB7S8iulFIRWU-=s64",
      "userId": "02036511388837544815"
     },
     "user_tz": -60
    },
    "id": "g5kxxUjCaYap",
    "outputId": "4d0e58aa-6be5-4efe-ffb4-bda00decc62a"
   },
   "outputs": [
    {
     "name": "stdout",
     "output_type": "stream",
     "text": [
      "\r",
      "2000/1 [================================================================================================================================================================================================================================================================================================================================================================================================================================================================================================================================================================================================================================================================================================================================================================================================================================================================================================================================================================================================================================================================================================================================================================================================================================================================================================================================================================================================================================================================================================================================================================================================================================================================================================================================================================================================================================================================================================================================================================================================================================================================================================================================================================================================================================================================================================================================================================================================================================================================================================================================================================================================================================================================================================================================================================================================================================================================================================================================================================================================================================================================================================================================================================================================================================================================================================================================================================================================================================================================================================================================================================================================================================================================================================================================================================================================================================================================================================================================================================================================================================================================================================================================================================================================================================================================================================================================================================================================================================================================================================================================================================================================================================================================================================================================================================================================================================================================================================================================================================================================================================================================================================================================================================================================================================================================================================================================================================================================================================================================================================================================================================================================================================================================================================================================================================================================================================================================================================================================================================================================================================================================================================================================================================================================================================================================================================================================================================================================================================================================================================================================================================================================================================================================================================================================================================================================================================================================================================================================================================================================================================================================================================================================================================================================================================================================================================================================================================================================================================================================================================================================================================================================================================================================================================================================================================================================================================================================================================================================================================================================================================================================================================================================================================================================================================================================================================================================================================================================================================================================================================================================================================================================================================================================================================================================================================================================================================================================================================================================================================================================================================================================================================================================================================================================================================================================================================================================================================================================================================================================================================================================================================================================================================================================================================================================================================================================================================================================================================================================================================================================================================================================================================================================================================================================================================================================================================================================================================================================================================================================================================================================================================================================================================================================================================================================================================================================================================================================================================================================================================================================================================================================================================================================================================================================================================================================================================================================================================================================================================================================================================================================================================================================================================================================================================================================================================================================================================================================================================================================================================================================================================================================================================================================================================================================================================================================================================================================================================================================================================================================================================================================================================================================================================================================================================================================================================================================================================================================================================================================================================================================================================================================================================================================================================================================================================================================================================================================================================================================================================================================================================================================================================================================================================================================================================================================================================================================================================================================================================================================================================================================================================================================================================================================================================================================================================================================================================================================================================================================================================================================================================================================================================================================================================================================================================================================================================================================================================================================================================================================================================================================================================================================================================================================================================================================================================================================================================================================================================================================================================================================================================================================================================================================================================================================================================================================================================================================================================================================================================================================================================================================================================================================================================================================================================================================================================================================================================================================================================================================================================================================================================================================================================================================================================================================================================================================================================================================================================================================================================================================================================================================================================================================================================================================================================================================================================================================================================================================================================================================================================================================================================================================================================================================================================================================================================================================================================================================================================================================================================================================================================================================================================================================================================================================================================================================================================================================================================================================================================================================================================================================================================================================================================================================================================================================================================================================================================================================================================================================================================================================================================================================================================================================================================================================================================================================================================================================================================================================================================================================================================================================================================================================================================================================================================================================================================================================================================================================================================================================================================================================================================================================================================================================================================================================================================================================================================================================================================================================================================================================================================================================================================================================================================================================================================================================================================================================================================================================================================================================================================================================================================================================================================================================================================================================================================================================================================================================================================================================================================================================================================================================================================================================================================================================================================================================================================================================================================================================================================================================================================================================================================================================================================================================================================================================================================================================================================================================================================================================================================================================================================================================================================================================================================================================================================================================================================================================================================================================================================================================================================================================================================================================================================================================================================================================================================================================================================================================================================================================================================================================================================================================================================================================================================================================================================================================================================================================================================================================================================================================================================================================================================================================================================================================================================================================================================================================================================================================================================================================================================================================================================================================================================================================================================================================================================================================================================================================================================================================================================================================================================================================================================================================================================================================================================================================================================================================================================================================================================================================================================================================================================================================================================================================================================================================================================================================================================================================================================================================================================================================================================================================================================================================================================================================================================================================================================================================================================================================================================================================================================================================================================================================================================================================================================================================================================================================================================================================================================================================================================================================================================================================================================================================================================================================================================================================================================================================================================================================================================================================================================================================================================================================================================================================================================================================================================================================================================================================================================================================================================================================================================================================================================================================================================================================================================================================================================================================================================================================================================================================================================================================================================================================================================================================================================================================================================================================================================================================================================================================================================================================================================================================================================================================================================================================================================================================================================================================================================================================================================================================================================================================================================================================================================================================================================================================================================================================================================================================================================================================================================================================================================================================================================================================================================================================================================================================================================================================================================================================================================================================================================================================================================================================================================================================================================================================================================================================================================================================================================================================================================================================================================================================================================================================================================================================================================================================================================================================================================================================================================================================================================================================================================================================================================================================================================================================================================================================================================================================================================================================================================================================================================================================================================================================================================================================================================================================================================================================================================================================================================================================================================================================================================================================================================================================================================================================================================================================================================================================================================================================================================================================================================================================================================================================================================================================================================================================================================================================================================================================================================================================================================================================================================================================================================================================================================================================================================================================================================================================================================================================================================================================================================================================================================================================================================================================================================================================================================================================================================================================================================================================================================================================================================================================================================================================================================================================================================================================================================================================================================================================================================================================================================================================================================================================================================================================================================================================================================================================================================================================================================================================================================================================================================================================================================================================================================================================================================================================================================================================================================================================================================================================================================================================================================================================================================================================================================================================================================================================================================================================================================================================================================================================================================================================================================================================================================================================================================================================================================================================================================================================================================================================================================================================================================================================================================================================================================================================================================================================================================================================================================================================================================================================================================================================================================================================================================================================================================================================================================================================================================================================================================================================================================================================================================================================================================================================================================================================================================================================================================================================================================================================================================================================================================================================================================================================================================================================================================================================================================================================================================================================================================================================================================================================================================================================================================================================================================================================================================================================================================================================================================================================================================================================================================================================================================================================================================================================================================================================================================================================================================================================================================================================================================================================================================================================================================================================================================================================================================================================================================================================================================================================================================================================================================================================================================================================================================================================================================================================================================================================================================================================================================================================================================================================================================================================================================================================================================================================================================================================================================================================================================================================================================================================================================================================================================================================================================================================================================================================================================================================================================================================================================================================================================================================================================================================================================================================================================================================================================================================================================================================================================================================================================================================================================================================================================================================================================================================================================================================================================================================================================================================================================================================================================================================================================================================================================================================================================================================================================================================================================================================================================================================================================================================================================================================================================================================================================================================================================================================================================================================================================================================================================================================================================================================================================================================================================================================================================================================================================================================================================================================================================================================================================================================================================================================================================================================================================================================================================================================================================================================================================================================================================================================================================================================================================================================================================================================================================================================================================================================================================================================================================================================================================================================================================================================================================================================================================================================================================================================================================================================================================================================================================================================================================================================================================================================================================================================================================================================================================================================================================================================================================================================================================================================================================================================================================================================================================================================================================================================================================================================================================================================================================================================================================================================================================================================================================================================================================================================================================================================================================================================================================================================================================================================================================================================================================================================================================================================================================================================================================================================================================================================================================================================================================================================================================================================================================================================================================================================================================================================================================================================================================================================================================================================================================================================================================================================================================================================================================================================================================================================================================================================================================================================================================================================================================================================================================================================================================================================================================================================================================================================================================================================================================================================================================================================================================================================================================================================================================================================================================================================================================================================================================================================================================================================================================================================================================================================================================================================================================================================================================================================================================================================================================================================================================================================================================================================================================================================================================================================================================================================================================================================================================================================================================================================================================================================================================================================================================================================================================================================================================================================================================================================================================================================================================================================================================================================================================================================================================================================================================================================================================================================================================================================================================================================================================================================================================================================================================================================================================================================================================================================================================================================================================================================================================================================================================================================================================================================================================================================================================================================================================================================================================================================================================================================================================================================================================================================================================================================================================================================================================================================================================================================================================================================================================================================================================================================================================================================================================================================================================================================================================================================================================================================================================================================================================================================================================================================================================================================================================================================================================================================================================================================================================================================================================================================================================================================================================================================================================================================================================================================================================================================================================================================================================================================================================================================================================================================================================================================================================================================================================================================================================================================================================================================================================================================================================================================================================================================================================================================================================================================================================================================================================================================================================================================================================================================================================================================================================================================================================================================================================================================================================================================================================================================================================================================================================================================================================================================================================================================================================================================================================================================================================================================================================================================================================================================================================================================================================================================================================================================================================================================================================================================================================================================================================================================================================================================================================================================================================================================================================================================================================================================================================================================================================================================================================================================================================================================================================================================================================================================================================================================================================================================================================================================================================================================================================================================================================================================================================================================================================================================================================================================================================================================================================================================================================================================================================================================================================================================================================================================================================================================================================================================================================================================================================================================================================================================================================================================================================================================================================================================================================================================================================================================================================================================================================================================================================================================================================================================================================================================================================================================================================================================================================================================================================================================================================================================================================================================================================================================================================================================================================================================================================================================================================================================================================================================================================================================================================================================================================================================================================================================================================================================================================================================================================================================================================================================================================================================================================================================================================================================================================================================================================================================================================================================================================================================================================================================================================================================================================================================================================================================================================================================================================================================================================================================================================] - 0s 73us/sample - loss: 0.2508 - accuracy: 0.8625\n"
     ]
    }
   ],
   "source": [
    "#Evaluating the results on test data\n",
    "results = model.evaluate(X_test, y_test.values)"
   ]
  },
  {
   "cell_type": "code",
   "execution_count": null,
   "metadata": {
    "colab": {
     "base_uri": "https://localhost:8080/",
     "height": 50
    },
    "executionInfo": {
     "elapsed": 9305,
     "status": "ok",
     "timestamp": 1602785964638,
     "user": {
      "displayName": "Solomon Nuhu",
      "photoUrl": "https://lh3.googleusercontent.com/a-/AOh14Ggv4HA3lMlO6cSybPvdyNLxvAUB7S8iulFIRWU-=s64",
      "userId": "02036511388837544815"
     },
     "user_tz": -60
    },
    "id": "B5vXYqMDafSP",
    "outputId": "4d68b252-e65f-4597-b9bb-d704177ff2a3"
   },
   "outputs": [
    {
     "name": "stdout",
     "output_type": "stream",
     "text": [
      "['loss', 'accuracy']\n",
      "[0.35095438599586487, 0.8625]\n"
     ]
    }
   ],
   "source": [
    "#Print the loss and accuracy\n",
    "print(model.metrics_names)\n",
    "print(results)"
   ]
  },
  {
   "cell_type": "markdown",
   "metadata": {
    "id": "T7Otl4yXR_Ay"
   },
   "source": [
    "The above model was fitted using hyper parameter that were chosen radomly. In the below steps, the hyper parameters will be tweaked to improve the accuracy score of the model. The following would be carried out below: \n",
    "\n",
    "1.   The activation function in the hidden layers would be changed to 'elu' since it usually produces the most accurate result\n",
    "2.   Optimizers such Adamax, Nadam, Ftrl would be set in turn and the one with the highest accuracy would be used for the next step.\n",
    "3.   The learning rates would be adjusted above and below 0.001 with activation function still set as 'elu' and the optimizer obtained in step 2.\n",
    "4.   Finally, with the above settings, The batch size and epoch were also adjusted to obtain the best accuracy score\n",
    "\n",
    "\n",
    "\n"
   ]
  },
  {
   "cell_type": "code",
   "execution_count": null,
   "metadata": {
    "id": "srmjNUB0a-lc"
   },
   "outputs": [],
   "source": [
    "model.add(Dense(16, input_dim = 11, activation = 'elu')) #First Hidden Layer With 16 nodes and 11 nodes from input layer\n",
    "model.add(Dense(8, activation = 'elu')) #Second Hidden Layer with 8 nodes\n",
    "model.add(Dense(1, activation = 'sigmoid')) #Output Layer with 1 node for classification problem"
   ]
  },
  {
   "cell_type": "code",
   "execution_count": null,
   "metadata": {
    "id": "S3K9rYhMauOd"
   },
   "outputs": [],
   "source": [
    "#Defining the optimizer and learning rate \n",
    "sgd = optimizers.Adamax(lr = 0.0005)"
   ]
  },
  {
   "cell_type": "code",
   "execution_count": null,
   "metadata": {
    "id": "YaQp1joWbKKa"
   },
   "outputs": [],
   "source": [
    "#Setting optimizer and loss function\n",
    "model.compile(optimizer = sgd, loss = 'binary_crossentropy', metrics=['accuracy'])\n"
   ]
  },
  {
   "cell_type": "code",
   "execution_count": null,
   "metadata": {
    "colab": {
     "base_uri": "https://localhost:8080/",
     "height": 1000
    },
    "executionInfo": {
     "elapsed": 17749,
     "status": "ok",
     "timestamp": 1602785973123,
     "user": {
      "displayName": "Solomon Nuhu",
      "photoUrl": "https://lh3.googleusercontent.com/a-/AOh14Ggv4HA3lMlO6cSybPvdyNLxvAUB7S8iulFIRWU-=s64",
      "userId": "02036511388837544815"
     },
     "user_tz": -60
    },
    "id": "4wxlh1tibZwE",
    "outputId": "ea2e45b2-b8db-4304-f587-5c03600a9db6"
   },
   "outputs": [
    {
     "name": "stdout",
     "output_type": "stream",
     "text": [
      "Train on 8000 samples\n",
      "Epoch 1/200\n",
      "8000/8000 [==============================] - 1s 83us/sample - loss: 0.6989 - accuracy: 0.3324\n",
      "Epoch 2/200\n",
      "8000/8000 [==============================] - 0s 5us/sample - loss: 0.6819 - accuracy: 0.6501\n",
      "Epoch 3/200\n",
      "8000/8000 [==============================] - 0s 4us/sample - loss: 0.6671 - accuracy: 0.8091\n",
      "Epoch 4/200\n",
      "8000/8000 [==============================] - 0s 4us/sample - loss: 0.6535 - accuracy: 0.8519\n",
      "Epoch 5/200\n",
      "8000/8000 [==============================] - 0s 4us/sample - loss: 0.6404 - accuracy: 0.8529\n",
      "Epoch 6/200\n",
      "8000/8000 [==============================] - 0s 4us/sample - loss: 0.6275 - accuracy: 0.8430\n",
      "Epoch 7/200\n",
      "8000/8000 [==============================] - 0s 4us/sample - loss: 0.6145 - accuracy: 0.8217\n",
      "Epoch 8/200\n",
      "8000/8000 [==============================] - 0s 4us/sample - loss: 0.6015 - accuracy: 0.8060\n",
      "Epoch 9/200\n",
      "8000/8000 [==============================] - 0s 4us/sample - loss: 0.5887 - accuracy: 0.7990\n",
      "Epoch 10/200\n",
      "8000/8000 [==============================] - 0s 4us/sample - loss: 0.5758 - accuracy: 0.7965\n",
      "Epoch 11/200\n",
      "8000/8000 [==============================] - 0s 5us/sample - loss: 0.5635 - accuracy: 0.7960\n",
      "Epoch 12/200\n",
      "8000/8000 [==============================] - 0s 5us/sample - loss: 0.5514 - accuracy: 0.7960\n",
      "Epoch 13/200\n",
      "8000/8000 [==============================] - 0s 4us/sample - loss: 0.5396 - accuracy: 0.7960\n",
      "Epoch 14/200\n",
      "8000/8000 [==============================] - 0s 4us/sample - loss: 0.5280 - accuracy: 0.7960\n",
      "Epoch 15/200\n",
      "8000/8000 [==============================] - 0s 4us/sample - loss: 0.5168 - accuracy: 0.7960\n",
      "Epoch 16/200\n",
      "8000/8000 [==============================] - 0s 4us/sample - loss: 0.5059 - accuracy: 0.7960\n",
      "Epoch 17/200\n",
      "8000/8000 [==============================] - 0s 4us/sample - loss: 0.4958 - accuracy: 0.7960\n",
      "Epoch 18/200\n",
      "8000/8000 [==============================] - 0s 4us/sample - loss: 0.4862 - accuracy: 0.7960\n",
      "Epoch 19/200\n",
      "8000/8000 [==============================] - 0s 4us/sample - loss: 0.4770 - accuracy: 0.7960\n",
      "Epoch 20/200\n",
      "8000/8000 [==============================] - 0s 4us/sample - loss: 0.4680 - accuracy: 0.7975\n",
      "Epoch 21/200\n",
      "8000/8000 [==============================] - 0s 4us/sample - loss: 0.4595 - accuracy: 0.8005\n",
      "Epoch 22/200\n",
      "8000/8000 [==============================] - 0s 5us/sample - loss: 0.4514 - accuracy: 0.8077\n",
      "Epoch 23/200\n",
      "8000/8000 [==============================] - 0s 4us/sample - loss: 0.4438 - accuracy: 0.8170\n",
      "Epoch 24/200\n",
      "8000/8000 [==============================] - 0s 4us/sample - loss: 0.4366 - accuracy: 0.8260\n",
      "Epoch 25/200\n",
      "8000/8000 [==============================] - 0s 4us/sample - loss: 0.4301 - accuracy: 0.8326\n",
      "Epoch 26/200\n",
      "8000/8000 [==============================] - 0s 4us/sample - loss: 0.4239 - accuracy: 0.8375\n",
      "Epoch 27/200\n",
      "8000/8000 [==============================] - 0s 4us/sample - loss: 0.4181 - accuracy: 0.8421\n",
      "Epoch 28/200\n",
      "8000/8000 [==============================] - 0s 4us/sample - loss: 0.4126 - accuracy: 0.8457\n",
      "Epoch 29/200\n",
      "8000/8000 [==============================] - 0s 4us/sample - loss: 0.4074 - accuracy: 0.8486\n",
      "Epoch 30/200\n",
      "8000/8000 [==============================] - 0s 4us/sample - loss: 0.4026 - accuracy: 0.8508\n",
      "Epoch 31/200\n",
      "8000/8000 [==============================] - 0s 4us/sample - loss: 0.3981 - accuracy: 0.8503\n",
      "Epoch 32/200\n",
      "8000/8000 [==============================] - 0s 4us/sample - loss: 0.3941 - accuracy: 0.8518\n",
      "Epoch 33/200\n",
      "8000/8000 [==============================] - 0s 5us/sample - loss: 0.3903 - accuracy: 0.8531\n",
      "Epoch 34/200\n",
      "8000/8000 [==============================] - 0s 4us/sample - loss: 0.3870 - accuracy: 0.8539\n",
      "Epoch 35/200\n",
      "8000/8000 [==============================] - 0s 4us/sample - loss: 0.3840 - accuracy: 0.8543\n",
      "Epoch 36/200\n",
      "8000/8000 [==============================] - 0s 4us/sample - loss: 0.3813 - accuracy: 0.8537\n",
      "Epoch 37/200\n",
      "8000/8000 [==============================] - 0s 4us/sample - loss: 0.3789 - accuracy: 0.8540\n",
      "Epoch 38/200\n",
      "8000/8000 [==============================] - 0s 4us/sample - loss: 0.3768 - accuracy: 0.8543\n",
      "Epoch 39/200\n",
      "8000/8000 [==============================] - 0s 4us/sample - loss: 0.3749 - accuracy: 0.8543\n",
      "Epoch 40/200\n",
      "8000/8000 [==============================] - 0s 4us/sample - loss: 0.3731 - accuracy: 0.8550\n",
      "Epoch 41/200\n",
      "8000/8000 [==============================] - 0s 5us/sample - loss: 0.3717 - accuracy: 0.8547\n",
      "Epoch 42/200\n",
      "8000/8000 [==============================] - 0s 5us/sample - loss: 0.3703 - accuracy: 0.8558\n",
      "Epoch 43/200\n",
      "8000/8000 [==============================] - 0s 4us/sample - loss: 0.3690 - accuracy: 0.8562\n",
      "Epoch 44/200\n",
      "8000/8000 [==============================] - 0s 4us/sample - loss: 0.3679 - accuracy: 0.8572\n",
      "Epoch 45/200\n",
      "8000/8000 [==============================] - 0s 4us/sample - loss: 0.3669 - accuracy: 0.8571\n",
      "Epoch 46/200\n",
      "8000/8000 [==============================] - 0s 4us/sample - loss: 0.3660 - accuracy: 0.8572\n",
      "Epoch 47/200\n",
      "8000/8000 [==============================] - 0s 4us/sample - loss: 0.3651 - accuracy: 0.8571\n",
      "Epoch 48/200\n",
      "8000/8000 [==============================] - 0s 5us/sample - loss: 0.3643 - accuracy: 0.8575\n",
      "Epoch 49/200\n",
      "8000/8000 [==============================] - 0s 5us/sample - loss: 0.3636 - accuracy: 0.8575\n",
      "Epoch 50/200\n",
      "8000/8000 [==============================] - 0s 4us/sample - loss: 0.3629 - accuracy: 0.8574\n",
      "Epoch 51/200\n",
      "8000/8000 [==============================] - 0s 4us/sample - loss: 0.3623 - accuracy: 0.8569\n",
      "Epoch 52/200\n",
      "8000/8000 [==============================] - 0s 4us/sample - loss: 0.3617 - accuracy: 0.8571\n",
      "Epoch 53/200\n",
      "8000/8000 [==============================] - 0s 4us/sample - loss: 0.3612 - accuracy: 0.8572\n",
      "Epoch 54/200\n",
      "8000/8000 [==============================] - 0s 4us/sample - loss: 0.3607 - accuracy: 0.8577\n",
      "Epoch 55/200\n",
      "8000/8000 [==============================] - 0s 4us/sample - loss: 0.3602 - accuracy: 0.8576\n",
      "Epoch 56/200\n",
      "8000/8000 [==============================] - 0s 4us/sample - loss: 0.3598 - accuracy: 0.8577\n",
      "Epoch 57/200\n",
      "8000/8000 [==============================] - 0s 4us/sample - loss: 0.3593 - accuracy: 0.8581\n",
      "Epoch 58/200\n",
      "8000/8000 [==============================] - 0s 4us/sample - loss: 0.3589 - accuracy: 0.8581\n",
      "Epoch 59/200\n",
      "8000/8000 [==============================] - 0s 5us/sample - loss: 0.3585 - accuracy: 0.8577\n",
      "Epoch 60/200\n",
      "8000/8000 [==============================] - 0s 4us/sample - loss: 0.3582 - accuracy: 0.8584\n",
      "Epoch 61/200\n",
      "8000/8000 [==============================] - 0s 4us/sample - loss: 0.3578 - accuracy: 0.8585\n",
      "Epoch 62/200\n",
      "8000/8000 [==============================] - 0s 4us/sample - loss: 0.3574 - accuracy: 0.8584\n",
      "Epoch 63/200\n",
      "8000/8000 [==============================] - 0s 4us/sample - loss: 0.3571 - accuracy: 0.8587\n",
      "Epoch 64/200\n",
      "8000/8000 [==============================] - 0s 4us/sample - loss: 0.3568 - accuracy: 0.8586\n",
      "Epoch 65/200\n",
      "8000/8000 [==============================] - 0s 4us/sample - loss: 0.3565 - accuracy: 0.8589\n",
      "Epoch 66/200\n",
      "8000/8000 [==============================] - 0s 4us/sample - loss: 0.3562 - accuracy: 0.8589\n",
      "Epoch 67/200\n",
      "8000/8000 [==============================] - 0s 4us/sample - loss: 0.3558 - accuracy: 0.8589\n",
      "Epoch 68/200\n",
      "8000/8000 [==============================] - 0s 5us/sample - loss: 0.3555 - accuracy: 0.8587\n",
      "Epoch 69/200\n",
      "8000/8000 [==============================] - 0s 4us/sample - loss: 0.3552 - accuracy: 0.8590\n",
      "Epoch 70/200\n",
      "8000/8000 [==============================] - 0s 5us/sample - loss: 0.3550 - accuracy: 0.8594\n",
      "Epoch 71/200\n",
      "8000/8000 [==============================] - 0s 4us/sample - loss: 0.3547 - accuracy: 0.8595\n",
      "Epoch 72/200\n",
      "8000/8000 [==============================] - 0s 5us/sample - loss: 0.3544 - accuracy: 0.8595\n",
      "Epoch 73/200\n",
      "8000/8000 [==============================] - 0s 4us/sample - loss: 0.3541 - accuracy: 0.8597\n",
      "Epoch 74/200\n",
      "8000/8000 [==============================] - 0s 4us/sample - loss: 0.3539 - accuracy: 0.8601\n",
      "Epoch 75/200\n",
      "8000/8000 [==============================] - 0s 4us/sample - loss: 0.3536 - accuracy: 0.8604\n",
      "Epoch 76/200\n",
      "8000/8000 [==============================] - 0s 4us/sample - loss: 0.3534 - accuracy: 0.8610\n",
      "Epoch 77/200\n",
      "8000/8000 [==============================] - 0s 4us/sample - loss: 0.3531 - accuracy: 0.8608\n",
      "Epoch 78/200\n",
      "8000/8000 [==============================] - 0s 5us/sample - loss: 0.3529 - accuracy: 0.8606\n",
      "Epoch 79/200\n",
      "8000/8000 [==============================] - 0s 4us/sample - loss: 0.3526 - accuracy: 0.8608\n",
      "Epoch 80/200\n",
      "8000/8000 [==============================] - 0s 4us/sample - loss: 0.3524 - accuracy: 0.8602\n",
      "Epoch 81/200\n",
      "8000/8000 [==============================] - 0s 4us/sample - loss: 0.3521 - accuracy: 0.8606\n",
      "Epoch 82/200\n",
      "8000/8000 [==============================] - 0s 4us/sample - loss: 0.3519 - accuracy: 0.8609\n",
      "Epoch 83/200\n",
      "8000/8000 [==============================] - 0s 4us/sample - loss: 0.3517 - accuracy: 0.8612\n",
      "Epoch 84/200\n",
      "8000/8000 [==============================] - 0s 4us/sample - loss: 0.3514 - accuracy: 0.8618\n",
      "Epoch 85/200\n",
      "8000/8000 [==============================] - 0s 4us/sample - loss: 0.3512 - accuracy: 0.8616\n",
      "Epoch 86/200\n",
      "8000/8000 [==============================] - 0s 4us/sample - loss: 0.3510 - accuracy: 0.8616\n",
      "Epoch 87/200\n",
      "8000/8000 [==============================] - 0s 4us/sample - loss: 0.3507 - accuracy: 0.8621\n",
      "Epoch 88/200\n",
      "8000/8000 [==============================] - 0s 5us/sample - loss: 0.3505 - accuracy: 0.8618\n",
      "Epoch 89/200\n",
      "8000/8000 [==============================] - 0s 4us/sample - loss: 0.3503 - accuracy: 0.8620\n",
      "Epoch 90/200\n",
      "8000/8000 [==============================] - 0s 5us/sample - loss: 0.3501 - accuracy: 0.8621\n",
      "Epoch 91/200\n",
      "8000/8000 [==============================] - 0s 4us/sample - loss: 0.3499 - accuracy: 0.8616\n",
      "Epoch 92/200\n",
      "8000/8000 [==============================] - 0s 4us/sample - loss: 0.3497 - accuracy: 0.8619\n",
      "Epoch 93/200\n",
      "8000/8000 [==============================] - 0s 4us/sample - loss: 0.3495 - accuracy: 0.8621\n",
      "Epoch 94/200\n",
      "8000/8000 [==============================] - 0s 6us/sample - loss: 0.3493 - accuracy: 0.8622\n",
      "Epoch 95/200\n",
      "8000/8000 [==============================] - 0s 5us/sample - loss: 0.3490 - accuracy: 0.8619\n",
      "Epoch 96/200\n",
      "8000/8000 [==============================] - 0s 5us/sample - loss: 0.3488 - accuracy: 0.8619\n",
      "Epoch 97/200\n",
      "8000/8000 [==============================] - 0s 5us/sample - loss: 0.3487 - accuracy: 0.8618\n",
      "Epoch 98/200\n",
      "8000/8000 [==============================] - 0s 4us/sample - loss: 0.3485 - accuracy: 0.8618\n",
      "Epoch 99/200\n",
      "8000/8000 [==============================] - 0s 4us/sample - loss: 0.3483 - accuracy: 0.8619\n",
      "Epoch 100/200\n",
      "8000/8000 [==============================] - 0s 4us/sample - loss: 0.3481 - accuracy: 0.8614\n",
      "Epoch 101/200\n",
      "8000/8000 [==============================] - 0s 4us/sample - loss: 0.3479 - accuracy: 0.8618\n",
      "Epoch 102/200\n",
      "8000/8000 [==============================] - 0s 4us/sample - loss: 0.3477 - accuracy: 0.8620\n",
      "Epoch 103/200\n",
      "8000/8000 [==============================] - 0s 4us/sample - loss: 0.3475 - accuracy: 0.8621\n",
      "Epoch 104/200\n",
      "8000/8000 [==============================] - 0s 4us/sample - loss: 0.3474 - accuracy: 0.8622\n",
      "Epoch 105/200\n",
      "8000/8000 [==============================] - 0s 5us/sample - loss: 0.3472 - accuracy: 0.8625\n",
      "Epoch 106/200\n",
      "8000/8000 [==============================] - 0s 4us/sample - loss: 0.3470 - accuracy: 0.8622\n",
      "Epoch 107/200\n",
      "8000/8000 [==============================] - 0s 4us/sample - loss: 0.3469 - accuracy: 0.8625\n",
      "Epoch 108/200\n",
      "8000/8000 [==============================] - 0s 4us/sample - loss: 0.3467 - accuracy: 0.8624\n",
      "Epoch 109/200\n",
      "8000/8000 [==============================] - 0s 4us/sample - loss: 0.3465 - accuracy: 0.8624\n",
      "Epoch 110/200\n",
      "8000/8000 [==============================] - 0s 5us/sample - loss: 0.3464 - accuracy: 0.8627\n",
      "Epoch 111/200\n",
      "8000/8000 [==============================] - 0s 4us/sample - loss: 0.3463 - accuracy: 0.8627\n",
      "Epoch 112/200\n",
      "8000/8000 [==============================] - 0s 4us/sample - loss: 0.3461 - accuracy: 0.8631\n",
      "Epoch 113/200\n",
      "8000/8000 [==============================] - 0s 4us/sample - loss: 0.3459 - accuracy: 0.8630\n",
      "Epoch 114/200\n",
      "8000/8000 [==============================] - 0s 4us/sample - loss: 0.3458 - accuracy: 0.8629\n",
      "Epoch 115/200\n",
      "8000/8000 [==============================] - 0s 4us/sample - loss: 0.3456 - accuracy: 0.8627\n",
      "Epoch 116/200\n",
      "8000/8000 [==============================] - 0s 5us/sample - loss: 0.3455 - accuracy: 0.8636\n",
      "Epoch 117/200\n",
      "8000/8000 [==============================] - 0s 5us/sample - loss: 0.3454 - accuracy: 0.8634\n",
      "Epoch 118/200\n",
      "8000/8000 [==============================] - 0s 4us/sample - loss: 0.3452 - accuracy: 0.8637\n",
      "Epoch 119/200\n",
      "8000/8000 [==============================] - 0s 5us/sample - loss: 0.3451 - accuracy: 0.8631\n",
      "Epoch 120/200\n",
      "8000/8000 [==============================] - 0s 5us/sample - loss: 0.3449 - accuracy: 0.8635\n",
      "Epoch 121/200\n",
      "8000/8000 [==============================] - 0s 5us/sample - loss: 0.3448 - accuracy: 0.8635\n",
      "Epoch 122/200\n",
      "8000/8000 [==============================] - 0s 5us/sample - loss: 0.3447 - accuracy: 0.8633\n",
      "Epoch 123/200\n",
      "8000/8000 [==============================] - 0s 5us/sample - loss: 0.3445 - accuracy: 0.8637\n",
      "Epoch 124/200\n",
      "8000/8000 [==============================] - 0s 5us/sample - loss: 0.3444 - accuracy: 0.8637\n",
      "Epoch 125/200\n",
      "8000/8000 [==============================] - 0s 7us/sample - loss: 0.3442 - accuracy: 0.8639\n",
      "Epoch 126/200\n",
      "8000/8000 [==============================] - 0s 4us/sample - loss: 0.3441 - accuracy: 0.8643\n",
      "Epoch 127/200\n",
      "8000/8000 [==============================] - 0s 4us/sample - loss: 0.3440 - accuracy: 0.8640\n",
      "Epoch 128/200\n",
      "8000/8000 [==============================] - 0s 5us/sample - loss: 0.3439 - accuracy: 0.8639\n",
      "Epoch 129/200\n",
      "8000/8000 [==============================] - 0s 4us/sample - loss: 0.3437 - accuracy: 0.8644\n",
      "Epoch 130/200\n",
      "8000/8000 [==============================] - 0s 4us/sample - loss: 0.3436 - accuracy: 0.8644\n",
      "Epoch 131/200\n",
      "8000/8000 [==============================] - 0s 4us/sample - loss: 0.3435 - accuracy: 0.8646\n",
      "Epoch 132/200\n",
      "8000/8000 [==============================] - 0s 4us/sample - loss: 0.3434 - accuracy: 0.8646\n",
      "Epoch 133/200\n",
      "8000/8000 [==============================] - 0s 5us/sample - loss: 0.3432 - accuracy: 0.8649\n",
      "Epoch 134/200\n",
      "8000/8000 [==============================] - 0s 5us/sample - loss: 0.3431 - accuracy: 0.8646\n",
      "Epoch 135/200\n",
      "8000/8000 [==============================] - 0s 4us/sample - loss: 0.3430 - accuracy: 0.8648\n",
      "Epoch 136/200\n",
      "8000/8000 [==============================] - 0s 4us/sample - loss: 0.3429 - accuracy: 0.8648\n",
      "Epoch 137/200\n",
      "8000/8000 [==============================] - 0s 4us/sample - loss: 0.3427 - accuracy: 0.8649\n",
      "Epoch 138/200\n",
      "8000/8000 [==============================] - 0s 4us/sample - loss: 0.3426 - accuracy: 0.8650\n",
      "Epoch 139/200\n",
      "8000/8000 [==============================] - 0s 5us/sample - loss: 0.3425 - accuracy: 0.8649\n",
      "Epoch 140/200\n",
      "8000/8000 [==============================] - 0s 5us/sample - loss: 0.3424 - accuracy: 0.8649\n",
      "Epoch 141/200\n",
      "8000/8000 [==============================] - 0s 4us/sample - loss: 0.3423 - accuracy: 0.8650\n",
      "Epoch 142/200\n",
      "8000/8000 [==============================] - 0s 5us/sample - loss: 0.3423 - accuracy: 0.8651\n",
      "Epoch 143/200\n",
      "8000/8000 [==============================] - 0s 4us/sample - loss: 0.3420 - accuracy: 0.8654\n",
      "Epoch 144/200\n",
      "8000/8000 [==============================] - 0s 4us/sample - loss: 0.3419 - accuracy: 0.8651\n",
      "Epoch 145/200\n",
      "8000/8000 [==============================] - 0s 4us/sample - loss: 0.3419 - accuracy: 0.8656\n",
      "Epoch 146/200\n",
      "8000/8000 [==============================] - 0s 4us/sample - loss: 0.3417 - accuracy: 0.8654\n",
      "Epoch 147/200\n",
      "8000/8000 [==============================] - 0s 4us/sample - loss: 0.3416 - accuracy: 0.8655\n",
      "Epoch 148/200\n",
      "8000/8000 [==============================] - 0s 6us/sample - loss: 0.3415 - accuracy: 0.8654\n",
      "Epoch 149/200\n",
      "8000/8000 [==============================] - 0s 5us/sample - loss: 0.3414 - accuracy: 0.8658\n",
      "Epoch 150/200\n",
      "8000/8000 [==============================] - 0s 5us/sample - loss: 0.3413 - accuracy: 0.8656\n",
      "Epoch 151/200\n",
      "8000/8000 [==============================] - 0s 5us/sample - loss: 0.3412 - accuracy: 0.8658\n",
      "Epoch 152/200\n",
      "8000/8000 [==============================] - 0s 5us/sample - loss: 0.3411 - accuracy: 0.8656\n",
      "Epoch 153/200\n",
      "8000/8000 [==============================] - 0s 4us/sample - loss: 0.3410 - accuracy: 0.8655\n",
      "Epoch 154/200\n",
      "8000/8000 [==============================] - 0s 5us/sample - loss: 0.3409 - accuracy: 0.8656\n",
      "Epoch 155/200\n",
      "8000/8000 [==============================] - 0s 5us/sample - loss: 0.3408 - accuracy: 0.8655\n",
      "Epoch 156/200\n",
      "8000/8000 [==============================] - 0s 5us/sample - loss: 0.3408 - accuracy: 0.8660\n",
      "Epoch 157/200\n",
      "8000/8000 [==============================] - 0s 5us/sample - loss: 0.3407 - accuracy: 0.8665\n",
      "Epoch 158/200\n",
      "8000/8000 [==============================] - 0s 4us/sample - loss: 0.3405 - accuracy: 0.8664\n",
      "Epoch 159/200\n",
      "8000/8000 [==============================] - 0s 5us/sample - loss: 0.3405 - accuracy: 0.8661\n",
      "Epoch 160/200\n",
      "8000/8000 [==============================] - 0s 5us/sample - loss: 0.3403 - accuracy: 0.8664\n",
      "Epoch 161/200\n",
      "8000/8000 [==============================] - 0s 5us/sample - loss: 0.3402 - accuracy: 0.8662\n",
      "Epoch 162/200\n",
      "8000/8000 [==============================] - 0s 4us/sample - loss: 0.3401 - accuracy: 0.8662\n",
      "Epoch 163/200\n",
      "8000/8000 [==============================] - 0s 4us/sample - loss: 0.3400 - accuracy: 0.8662\n",
      "Epoch 164/200\n",
      "8000/8000 [==============================] - 0s 4us/sample - loss: 0.3400 - accuracy: 0.8668\n",
      "Epoch 165/200\n",
      "8000/8000 [==============================] - 0s 4us/sample - loss: 0.3399 - accuracy: 0.8668\n",
      "Epoch 166/200\n",
      "8000/8000 [==============================] - 0s 5us/sample - loss: 0.3398 - accuracy: 0.8664\n",
      "Epoch 167/200\n",
      "8000/8000 [==============================] - 0s 4us/sample - loss: 0.3397 - accuracy: 0.8666\n",
      "Epoch 168/200\n",
      "8000/8000 [==============================] - 0s 4us/sample - loss: 0.3396 - accuracy: 0.8668\n",
      "Epoch 169/200\n",
      "8000/8000 [==============================] - 0s 4us/sample - loss: 0.3395 - accuracy: 0.8669\n",
      "Epoch 170/200\n",
      "8000/8000 [==============================] - 0s 4us/sample - loss: 0.3395 - accuracy: 0.8670\n",
      "Epoch 171/200\n",
      "8000/8000 [==============================] - 0s 5us/sample - loss: 0.3394 - accuracy: 0.8668\n",
      "Epoch 172/200\n",
      "8000/8000 [==============================] - 0s 5us/sample - loss: 0.3393 - accuracy: 0.8665\n",
      "Epoch 173/200\n",
      "8000/8000 [==============================] - 0s 5us/sample - loss: 0.3392 - accuracy: 0.8668\n",
      "Epoch 174/200\n",
      "8000/8000 [==============================] - 0s 5us/sample - loss: 0.3391 - accuracy: 0.8668\n",
      "Epoch 175/200\n",
      "8000/8000 [==============================] - 0s 5us/sample - loss: 0.3390 - accuracy: 0.8670\n",
      "Epoch 176/200\n",
      "8000/8000 [==============================] - 0s 4us/sample - loss: 0.3390 - accuracy: 0.8668\n",
      "Epoch 177/200\n",
      "8000/8000 [==============================] - 0s 6us/sample - loss: 0.3389 - accuracy: 0.8668\n",
      "Epoch 178/200\n",
      "8000/8000 [==============================] - 0s 6us/sample - loss: 0.3389 - accuracy: 0.8666\n",
      "Epoch 179/200\n",
      "8000/8000 [==============================] - 0s 4us/sample - loss: 0.3387 - accuracy: 0.8676\n",
      "Epoch 180/200\n",
      "8000/8000 [==============================] - 0s 5us/sample - loss: 0.3387 - accuracy: 0.8675\n",
      "Epoch 181/200\n",
      "8000/8000 [==============================] - 0s 5us/sample - loss: 0.3386 - accuracy: 0.8677\n",
      "Epoch 182/200\n",
      "8000/8000 [==============================] - 0s 5us/sample - loss: 0.3385 - accuracy: 0.8676\n",
      "Epoch 183/200\n",
      "8000/8000 [==============================] - 0s 5us/sample - loss: 0.3384 - accuracy: 0.8679\n",
      "Epoch 184/200\n",
      "8000/8000 [==============================] - 0s 5us/sample - loss: 0.3384 - accuracy: 0.8681\n",
      "Epoch 185/200\n",
      "8000/8000 [==============================] - 0s 5us/sample - loss: 0.3383 - accuracy: 0.8679\n",
      "Epoch 186/200\n",
      "8000/8000 [==============================] - 0s 5us/sample - loss: 0.3382 - accuracy: 0.8676\n",
      "Epoch 187/200\n",
      "8000/8000 [==============================] - 0s 5us/sample - loss: 0.3381 - accuracy: 0.8676\n",
      "Epoch 188/200\n",
      "8000/8000 [==============================] - 0s 5us/sample - loss: 0.3380 - accuracy: 0.8676\n",
      "Epoch 189/200\n",
      "8000/8000 [==============================] - 0s 5us/sample - loss: 0.3380 - accuracy: 0.8679\n",
      "Epoch 190/200\n",
      "8000/8000 [==============================] - 0s 5us/sample - loss: 0.3379 - accuracy: 0.8675\n",
      "Epoch 191/200\n",
      "8000/8000 [==============================] - 0s 5us/sample - loss: 0.3378 - accuracy: 0.8676\n",
      "Epoch 192/200\n",
      "8000/8000 [==============================] - 0s 5us/sample - loss: 0.3377 - accuracy: 0.8676\n",
      "Epoch 193/200\n",
      "8000/8000 [==============================] - 0s 6us/sample - loss: 0.3376 - accuracy: 0.8681\n",
      "Epoch 194/200\n",
      "8000/8000 [==============================] - 0s 5us/sample - loss: 0.3376 - accuracy: 0.8680\n",
      "Epoch 195/200\n",
      "8000/8000 [==============================] - 0s 5us/sample - loss: 0.3375 - accuracy: 0.8675\n",
      "Epoch 196/200\n",
      "8000/8000 [==============================] - 0s 4us/sample - loss: 0.3374 - accuracy: 0.8675\n",
      "Epoch 197/200\n",
      "8000/8000 [==============================] - 0s 5us/sample - loss: 0.3373 - accuracy: 0.8677\n",
      "Epoch 198/200\n",
      "8000/8000 [==============================] - 0s 5us/sample - loss: 0.3373 - accuracy: 0.8683\n",
      "Epoch 199/200\n",
      "8000/8000 [==============================] - 0s 5us/sample - loss: 0.3372 - accuracy: 0.8681\n",
      "Epoch 200/200\n",
      "8000/8000 [==============================] - 0s 5us/sample - loss: 0.3371 - accuracy: 0.8680\n"
     ]
    },
    {
     "data": {
      "text/plain": [
       "<tensorflow.python.keras.callbacks.History at 0x7f8a30893da0>"
      ]
     },
     "execution_count": 32,
     "metadata": {
      "tags": []
     },
     "output_type": "execute_result"
    }
   ],
   "source": [
    "#Fitting the model using forward and bacward propagation\n",
    "model.fit(X_train, y_train.values, batch_size = 700, epochs = 200, verbose = 1)"
   ]
  },
  {
   "cell_type": "code",
   "execution_count": null,
   "metadata": {
    "colab": {
     "base_uri": "https://localhost:8080/",
     "height": 87
    },
    "executionInfo": {
     "elapsed": 17736,
     "status": "ok",
     "timestamp": 1602785973125,
     "user": {
      "displayName": "Solomon Nuhu",
      "photoUrl": "https://lh3.googleusercontent.com/a-/AOh14Ggv4HA3lMlO6cSybPvdyNLxvAUB7S8iulFIRWU-=s64",
      "userId": "02036511388837544815"
     },
     "user_tz": -60
    },
    "id": "vTRSmP3SbmYD",
    "outputId": "c4cfc010-a671-4bc8-baeb-d039d7318847"
   },
   "outputs": [
    {
     "name": "stdout",
     "output_type": "stream",
     "text": [
      "\r",
      "2000/1 [================================================================================================================================================================================================================================================================================================================================================================================================================================================================================================================================================================================================================================================================================================================================================================================================================================================================================================================================================================================================================================================================================================================================================================================================================================================================================================================================================================================================================================================================================================================================================================================================================================================================================================================================================================================================================================================================================================================================================================================================================================================================================================================================================================================================================================================================================================================================================================================================================================================================================================================================================================================================================================================================================================================================================================================================================================================================================================================================================================================================================================================================================================================================================================================================================================================================================================================================================================================================================================================================================================================================================================================================================================================================================================================================================================================================================================================================================================================================================================================================================================================================================================================================================================================================================================================================================================================================================================================================================================================================================================================================================================================================================================================================================================================================================================================================================================================================================================================================================================================================================================================================================================================================================================================================================================================================================================================================================================================================================================================================================================================================================================================================================================================================================================================================================================================================================================================================================================================================================================================================================================================================================================================================================================================================================================================================================================================================================================================================================================================================================================================================================================================================================================================================================================================================================================================================================================================================================================================================================================================================================================================================================================================================================================================================================================================================================================================================================================================================================================================================================================================================================================================================================================================================================================================================================================================================================================================================================================================================================================================================================================================================================================================================================================================================================================================================================================================================================================================================================================================================================================================================================================================================================================================================================================================================================================================================================================================================================================================================================================================================================================================================================================================================================================================================================================================================================================================================================================================================================================================================================================================================================================================================================================================================================================================================================================================================================================================================================================================================================================================================================================================================================================================================================================================================================================================================================================================================================================================================================================================================================================================================================================================================================================================================================================================================================================================================================================================================================================================================================================================================================================================================================================================================================================================================================================================================================================================================================================================================================================================================================================================================================================================================================================================================================================================================================================================================================================================================================================================================================================================================================================================================================================================================================================================================================================================================================================================================================================================================================================================================================================================================================================================================================================================================================================================================================================================================================================================================================================================================================================================================================================================================================================================================================================================================================================================================================================================================================================================================================================================================================================================================================================================================================================================================================================================================================================================================================================================================================================================================================================================================================================================================================================================================================================================================================================================================================================================================================================================================================================================================================================================================================================================================================================================================================================================================================================================================================================================================================================================================================================================================================================================================================================================================================================================================================================================================================================================================================================================================================================================================================================================================================================================================================================================================================================================================================================================================================================================================================================================================================================================================================================================================================================================================================================================================================================================================================================================================================================================================================================================================================================================================================================================================================================================================================================================================================================================================================================================================================================================================================================================================================================================================================================================================================================================================================================================================================================================================================================================================================================================================================================================================================================================================================================================================================================================================================================================================================================================================================================================================================================================================================================================================================================================================================================================================================================================================================================================================================================================================================================================================================================================================================================================================================================================================================================================================================================================================================================================================================================================================================================================================================================================================================================================================================================================================================================================================================================================================================================================================================================================================================================================================================================================================================================================================================================================================================================================================================================================================================================================================================================================================================================================================================================================================================================================================================================================================================================================================================================================================================================================================================================================================================================================================================================================================================================================================================================================================================================================================================================================================================================================================================================================================================================================================================================================================================================================================================================================================================================================================================================================================================================================================================================================================================================================================================================================================================================================================================================================================================================================================================================================================================================================================================================================================================================================================================================================================================================================================================================================================================================================================================================================================================================================================================================================================================================================================================================================================================================================================================================================================================================================================================================================================================================================================================================================================================================================================================================================================================================================================================================================================================================================================================================================================================================================================================================================================================================================================================================================================================================================================================================================================================================================================================================================================================================================================================================================================================================================================================================================================================================================================================================================================================================================================================================================================================================================================================================================================================================================================================================================================================================================================================================================================================================================================================================================================================================================================================================================================================================================================================================================================================================================================================================================================================================================================================================================================================================================================================================================================================================================================================================================================================================================================================================================================================================================================================================================================================================================================================================================================================================================================================================================================================================================================================================================================================================================================================================================================================================================================================================================================================================================================================================================================================================================================================================================================================================================================================================================================================================================================================================================================================================================================================================================================================================================================================================================================================================================================================================================================================================================================================================================================================================================================================================================================================================================================================================================================================================================================================================================================================================================================================================================================================================================================================================================================================================================================================================================================================================================================================================================================================================================================================================================================================================================================================================================================================================================================================================================================================================================================================================================================================================================================================================================================================================================================================================================================================================================================================================================================================================================================================================================================================================================================================================================================================================================================================================================================================================================================================================================================================================================================================================================================================================================================================================================================================================================================================================================================================================================================================================================================================================================================================================================================================================================================================================================================================================================================================================================================================================================================================================================================================================================================================================================================================================================================================================================================================================================================================================================================================================================================================================================================================================================================================================================================================================================================================================================================================================================================================================================================================================================================================================================================================================================================================================================================================================================================================================================================================================================================================================================================================================================================================================================================================================================================================================================================================================================================================================================================================================================================================================================================================================================================================================================================================================================================================================================================================================================================================================================================================================================================================================================================================================================================================================================================================================================================================================================================================================================================================================================================================================================================================================================================================================================================================================================================================================================================================================================================================================================================================================================================================================================================================================================================================================================================================================================================================================================================================================================================================================================================================================================================================================================================================================================================================================================================================================================================================================================================================================================================================================================================================================================================================================================================================================================================================================================================================================================================================================================================================================================================================================================================================================================================================================================================================================================================================================================================================================================================================================================================================================================================================================================================================================================================================================================================================================================================================================================================================================================================================================================================================================================================================================================================================================================================================================================================================================================================================================================================================================================================================================================================================================================================================================================================================================================================================================================================================================================================================================================================================================================================================================================================================================================================================================================================================================================================================================================================================================================================================================================================================================================================================================================================================================================================================================================================================================================================================================================================================================================================================================================================================================================================================================================================================================================================================================================================================================================================================================================================================================================================================================================================================================================================================================================================================================================================================================================================================================================================================================================================================================================================================================================================================================================================================================================================================================================================================================================================================================================================================================================================================================================================================================================================================================================================================================================================================================================================================================================================================================================================================================================================================================================================================================================================================================================================================================================================================================================================================================================================================================================================================================================================================================================================================================================================================================================================================================================================================================================================================================================================================================================================================================================================================================================================================================================================================================================================================================================================================================================================================================================================================================================================================================================================================================================================================================================================================================================================================================================================================================================================================================================================================================================================================================================================================================================================================================================================================================================================================================================================================================================================================================================================================================================================================================================================================================================================================================================================================================================================================================================================================================================================================================================================================================================================================================================================================================================================================================================================================================================================================================================================================================================================================================================================================================================================================================================================================================================================================================================================================================================================================================================================================================================================================================================================================================================================================================================================================================================================================================================================================================================================================================================================================================================================================================================================================================================================================================================================================================================================================================================================================================================================================================================================================================================================================================================================================================================================================================================================================================================================================================================================================================================================================================================================================================================================================================================================================================================================================================================================================================================================================================================================================================================================================================================================================================================================================================================================================================================================================================================================================================================================================================================================================================================================================================================================================================================================================================================================================================================================================================================================================================================================================================================================================================================================================================================================================================================================================================================================================================================================================================================================================================================================================================================================================================================================================================================================================================================================================================================================================================================================================================================================================================================================================================================================================================================================================================================================================================================================================================================================================================================================================================================================================================================================================================================================================================================================================================================================================================================================================================================================================================================================================================================================================================================================================================================================================================================================================================================================================================================================================================================================================================================================================================================================================================================================================================================================================================================================================================================================================================================================================================================================================================================================================================================================================================================================================================================================================================================================================================================================================================================================================================================================================================================================================================================================================================================================================================================================================================================================================================================================================================================================================================================================================================================================================================================================================================================================================================================================================================================================================================================================================================================================================================================================================================================================================================================================================================================================================================================================================================================================================================================================================================================================================================================================================================================================================================================================================================================================================================================================================================================================================================================================================================================================================================================================================================================================================================================================================================================================================================================================================================================================================================================================================================================================================================================================================================================================================================================================================================================================================================================================================================================================================================================================================================================================================================================================================================================================================================================================================================================================================================================================================================================================================================================================================================================================================================================================================================================================================================================================================================================================================================================================================================================================================================================================================================================================================================================================================================================================================================================================================================================================================================================================================================================================================================================================================================================================================================================================================================================================================================================================================================================================================================================================================================================================================================================================================================================================================================================================================================================================================================================================================================================================================================================================================================================================================================================================================================================================================================================================================================================================================================================================================================================================================================================================================================================================================================================================================================================================================================================================================================================================================================================================================================================================================================================================================================================================================================================================================================================================================================================================================================================================================================================================================================================================================================================================================================================================================================================================================================================================================================================================================================================================================================================================================================================================================================================================================================================================================================================================================================================================================================================================================================================================================================================================================================================================================================================================================================================================================================================================================================================================================================================================================================================================================================================================================================================================================================================================================================================================================================================================================================================================================================================================================================================================================================================================================================================================================================================================================================================================================================================================================================================================================================================================================================================================================================================================================================================================================================================================================================================================================================================================================================================================================================================================================================================================================================================================================================================================================================================================================================================================================================================================================================] - 0s 86us/sample - loss: 0.2377 - accuracy: 0.8655\n",
      "['loss', 'accuracy']\n",
      "[0.3419598941802979, 0.8655]\n"
     ]
    }
   ],
   "source": [
    "results = model.evaluate(X_test, y_test.values)\n",
    "print(model.metrics_names)\n",
    "print(results)"
   ]
  },
  {
   "cell_type": "markdown",
   "metadata": {
    "id": "kXd670asfxAJ"
   },
   "source": [
    "After following the steps in cell 28(shown in cells [29]-[33], the accuracy of the model increased from 86.25 to 86.55 and the loss reduced from 0.351 to 0.341"
   ]
  },
  {
   "cell_type": "markdown",
   "metadata": {
    "id": "BtHhbaN0a2QC"
   },
   "source": [
    "7. Predict the results using 0.5 as a threshold (10 points)"
   ]
  },
  {
   "cell_type": "code",
   "execution_count": null,
   "metadata": {
    "colab": {
     "base_uri": "https://localhost:8080/",
     "height": 185
    },
    "executionInfo": {
     "elapsed": 1096,
     "status": "ok",
     "timestamp": 1602786468978,
     "user": {
      "displayName": "Solomon Nuhu",
      "photoUrl": "https://lh3.googleusercontent.com/a-/AOh14Ggv4HA3lMlO6cSybPvdyNLxvAUB7S8iulFIRWU-=s64",
      "userId": "02036511388837544815"
     },
     "user_tz": -60
    },
    "id": "zMPM8R04mkhs",
    "outputId": "94e81c1d-a1a3-450d-e8a0-c8bcc9e4cac0"
   },
   "outputs": [
    {
     "name": "stdout",
     "output_type": "stream",
     "text": [
      "[[False]\n",
      " [False]\n",
      " [False]\n",
      " [False]\n",
      " [False]\n",
      " [ True]\n",
      " [False]\n",
      " [False]\n",
      " [False]\n",
      " [ True]]\n"
     ]
    }
   ],
   "source": [
    "#Predicting the Test set results \n",
    "y_pred = model.predict(X_test)\n",
    "#For a Threshold of 50%\n",
    "y_pred = (y_pred > 0.5)\n",
    "print(y_pred[:10])"
   ]
  },
  {
   "cell_type": "markdown",
   "metadata": {
    "id": "50YsCCtYkCUl"
   },
   "source": [
    "From the array above, the model predicts that the sixth and tenth customer on the data set have a high likelyhood of leaving the bank"
   ]
  },
  {
   "cell_type": "markdown",
   "metadata": {
    "id": "ZtwMvrnmbIwS"
   },
   "source": [
    "8. Print the Accuracy score and confusion matrix (5 points)\n"
   ]
  },
  {
   "cell_type": "code",
   "execution_count": null,
   "metadata": {
    "colab": {
     "base_uri": "https://localhost:8080/",
     "height": 50
    },
    "executionInfo": {
     "elapsed": 945,
     "status": "ok",
     "timestamp": 1602786491812,
     "user": {
      "displayName": "Solomon Nuhu",
      "photoUrl": "https://lh3.googleusercontent.com/a-/AOh14Ggv4HA3lMlO6cSybPvdyNLxvAUB7S8iulFIRWU-=s64",
      "userId": "02036511388837544815"
     },
     "user_tz": -60
    },
    "id": "YecALCmnnWO8",
    "outputId": "f70f1bc1-1d77-4335-c8db-f7f84ceef1e4"
   },
   "outputs": [
    {
     "data": {
      "text/plain": [
       "array([[1520,   75],\n",
       "       [ 194,  211]])"
      ]
     },
     "execution_count": 35,
     "metadata": {
      "tags": []
     },
     "output_type": "execute_result"
    }
   ],
   "source": [
    "#Making the Confusion Matrix\n",
    "cm = confusion_matrix(y_test, y_pred)\n",
    "cm"
   ]
  },
  {
   "cell_type": "markdown",
   "metadata": {
    "id": "8Q9N1UyUiSuf"
   },
   "source": [
    "From the confusion matrix, out of 2000 observation the model accurately predicted 1520 plus 211 correct predictions and 194 plus 75 incorrect predictions."
   ]
  },
  {
   "cell_type": "code",
   "execution_count": 37,
   "metadata": {
    "colab": {
     "base_uri": "https://localhost:8080/",
     "height": 34
    },
    "executionInfo": {
     "elapsed": 1679,
     "status": "ok",
     "timestamp": 1602787705228,
     "user": {
      "displayName": "Solomon Nuhu",
      "photoUrl": "https://lh3.googleusercontent.com/a-/AOh14Ggv4HA3lMlO6cSybPvdyNLxvAUB7S8iulFIRWU-=s64",
      "userId": "02036511388837544815"
     },
     "user_tz": -60
    },
    "id": "_11v13x6iu3Q",
    "outputId": "bd22ffca-b2c0-4605-bc06-656054e776fc"
   },
   "outputs": [
    {
     "data": {
      "text/plain": [
       "0.8655"
      ]
     },
     "execution_count": 37,
     "metadata": {
      "tags": []
     },
     "output_type": "execute_result"
    }
   ],
   "source": [
    "#Printing the Accuracy\n",
    "accuracy = (1520+211)/(2000)\n",
    "accuracy"
   ]
  },
  {
   "cell_type": "markdown",
   "metadata": {
    "id": "Mu3MF3fQjTke"
   },
   "source": [
    "The model was able to predict the probability of customers leaving the bank with an accuracy of 86.55%. This means that the model can be deployed."
   ]
  }
 ],
 "metadata": {
  "colab": {
   "authorship_tag": "ABX9TyPL5MbyFjIc6skeRFboR/y5",
   "collapsed_sections": [],
   "name": "Churn.ipynb",
   "provenance": []
  },
  "kernelspec": {
   "display_name": "Python 3",
   "language": "python",
   "name": "python3"
  },
  "language_info": {
   "codemirror_mode": {
    "name": "ipython",
    "version": 3
   },
   "file_extension": ".py",
   "mimetype": "text/x-python",
   "name": "python",
   "nbconvert_exporter": "python",
   "pygments_lexer": "ipython3",
   "version": "3.8.3"
  }
 },
 "nbformat": 4,
 "nbformat_minor": 1
}
